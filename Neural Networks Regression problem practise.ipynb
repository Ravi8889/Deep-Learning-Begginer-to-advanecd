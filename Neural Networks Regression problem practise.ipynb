{
 "cells": [
  {
   "cell_type": "code",
   "execution_count": 91,
   "metadata": {},
   "outputs": [],
   "source": [
    "import pandas as pd \n",
    "import numpy as np \n",
    "import seaborn as sns\n",
    "import matplotlib.pyplot as plt\n"
   ]
  },
  {
   "cell_type": "code",
   "execution_count": 92,
   "metadata": {},
   "outputs": [],
   "source": [
    "df =pd.read_csv(r\"https://raw.githubusercontent.com/dphi-official/Datasets/master/Boston_Housing/Training_set_boston.csv\")"
   ]
  },
  {
   "cell_type": "markdown",
   "metadata": {},
   "source": [
    "about the data set\n",
    "We will be working on a data set that comes from the real estate industry in Boston (US). This database contains 14 attributes. The target variable refers to the median value of owner-occupied homes in 1000 USD's."
   ]
  },
  {
   "cell_type": "code",
   "execution_count": 93,
   "metadata": {},
   "outputs": [
    {
     "data": {
      "text/html": [
       "<div>\n",
       "<style scoped>\n",
       "    .dataframe tbody tr th:only-of-type {\n",
       "        vertical-align: middle;\n",
       "    }\n",
       "\n",
       "    .dataframe tbody tr th {\n",
       "        vertical-align: top;\n",
       "    }\n",
       "\n",
       "    .dataframe thead th {\n",
       "        text-align: right;\n",
       "    }\n",
       "</style>\n",
       "<table border=\"1\" class=\"dataframe\">\n",
       "  <thead>\n",
       "    <tr style=\"text-align: right;\">\n",
       "      <th></th>\n",
       "      <th>CRIM</th>\n",
       "      <th>ZN</th>\n",
       "      <th>INDUS</th>\n",
       "      <th>CHAS</th>\n",
       "      <th>NOX</th>\n",
       "      <th>RM</th>\n",
       "      <th>AGE</th>\n",
       "      <th>DIS</th>\n",
       "      <th>RAD</th>\n",
       "      <th>TAX</th>\n",
       "      <th>PTRATIO</th>\n",
       "      <th>B</th>\n",
       "      <th>LSTAT</th>\n",
       "      <th>MEDV</th>\n",
       "    </tr>\n",
       "  </thead>\n",
       "  <tbody>\n",
       "    <tr>\n",
       "      <th>0</th>\n",
       "      <td>15.02340</td>\n",
       "      <td>0.0</td>\n",
       "      <td>18.10</td>\n",
       "      <td>0.0</td>\n",
       "      <td>0.6140</td>\n",
       "      <td>5.304</td>\n",
       "      <td>97.3</td>\n",
       "      <td>2.1007</td>\n",
       "      <td>24.0</td>\n",
       "      <td>666.0</td>\n",
       "      <td>20.2</td>\n",
       "      <td>349.48</td>\n",
       "      <td>24.91</td>\n",
       "      <td>12.0</td>\n",
       "    </tr>\n",
       "    <tr>\n",
       "      <th>1</th>\n",
       "      <td>0.62739</td>\n",
       "      <td>0.0</td>\n",
       "      <td>8.14</td>\n",
       "      <td>0.0</td>\n",
       "      <td>0.5380</td>\n",
       "      <td>5.834</td>\n",
       "      <td>56.5</td>\n",
       "      <td>4.4986</td>\n",
       "      <td>4.0</td>\n",
       "      <td>307.0</td>\n",
       "      <td>21.0</td>\n",
       "      <td>395.62</td>\n",
       "      <td>8.47</td>\n",
       "      <td>19.9</td>\n",
       "    </tr>\n",
       "    <tr>\n",
       "      <th>2</th>\n",
       "      <td>0.03466</td>\n",
       "      <td>35.0</td>\n",
       "      <td>6.06</td>\n",
       "      <td>0.0</td>\n",
       "      <td>0.4379</td>\n",
       "      <td>6.031</td>\n",
       "      <td>23.3</td>\n",
       "      <td>6.6407</td>\n",
       "      <td>1.0</td>\n",
       "      <td>304.0</td>\n",
       "      <td>16.9</td>\n",
       "      <td>362.25</td>\n",
       "      <td>7.83</td>\n",
       "      <td>19.4</td>\n",
       "    </tr>\n",
       "    <tr>\n",
       "      <th>3</th>\n",
       "      <td>7.05042</td>\n",
       "      <td>0.0</td>\n",
       "      <td>18.10</td>\n",
       "      <td>0.0</td>\n",
       "      <td>0.6140</td>\n",
       "      <td>6.103</td>\n",
       "      <td>85.1</td>\n",
       "      <td>2.0218</td>\n",
       "      <td>24.0</td>\n",
       "      <td>666.0</td>\n",
       "      <td>20.2</td>\n",
       "      <td>2.52</td>\n",
       "      <td>23.29</td>\n",
       "      <td>13.4</td>\n",
       "    </tr>\n",
       "    <tr>\n",
       "      <th>4</th>\n",
       "      <td>0.72580</td>\n",
       "      <td>0.0</td>\n",
       "      <td>8.14</td>\n",
       "      <td>0.0</td>\n",
       "      <td>0.5380</td>\n",
       "      <td>5.727</td>\n",
       "      <td>69.5</td>\n",
       "      <td>3.7965</td>\n",
       "      <td>4.0</td>\n",
       "      <td>307.0</td>\n",
       "      <td>21.0</td>\n",
       "      <td>390.95</td>\n",
       "      <td>11.28</td>\n",
       "      <td>18.2</td>\n",
       "    </tr>\n",
       "  </tbody>\n",
       "</table>\n",
       "</div>"
      ],
      "text/plain": [
       "       CRIM    ZN  INDUS  CHAS     NOX     RM   AGE     DIS   RAD    TAX  \\\n",
       "0  15.02340   0.0  18.10   0.0  0.6140  5.304  97.3  2.1007  24.0  666.0   \n",
       "1   0.62739   0.0   8.14   0.0  0.5380  5.834  56.5  4.4986   4.0  307.0   \n",
       "2   0.03466  35.0   6.06   0.0  0.4379  6.031  23.3  6.6407   1.0  304.0   \n",
       "3   7.05042   0.0  18.10   0.0  0.6140  6.103  85.1  2.0218  24.0  666.0   \n",
       "4   0.72580   0.0   8.14   0.0  0.5380  5.727  69.5  3.7965   4.0  307.0   \n",
       "\n",
       "   PTRATIO       B  LSTAT  MEDV  \n",
       "0     20.2  349.48  24.91  12.0  \n",
       "1     21.0  395.62   8.47  19.9  \n",
       "2     16.9  362.25   7.83  19.4  \n",
       "3     20.2    2.52  23.29  13.4  \n",
       "4     21.0  390.95  11.28  18.2  "
      ]
     },
     "execution_count": 93,
     "metadata": {},
     "output_type": "execute_result"
    }
   ],
   "source": [
    "df.head()"
   ]
  },
  {
   "cell_type": "markdown",
   "metadata": {},
   "source": [
    "# Data Pre-Processing"
   ]
  },
  {
   "cell_type": "code",
   "execution_count": 94,
   "metadata": {},
   "outputs": [
    {
     "data": {
      "text/plain": [
       "(404, 14)"
      ]
     },
     "execution_count": 94,
     "metadata": {},
     "output_type": "execute_result"
    }
   ],
   "source": [
    "df.shape"
   ]
  },
  {
   "cell_type": "code",
   "execution_count": 95,
   "metadata": {},
   "outputs": [
    {
     "data": {
      "text/plain": [
       "Index(['CRIM', 'ZN', 'INDUS', 'CHAS', 'NOX', 'RM', 'AGE', 'DIS', 'RAD', 'TAX',\n",
       "       'PTRATIO', 'B', 'LSTAT', 'MEDV'],\n",
       "      dtype='object')"
      ]
     },
     "execution_count": 95,
     "metadata": {},
     "output_type": "execute_result"
    }
   ],
   "source": [
    "df.columns"
   ]
  },
  {
   "cell_type": "code",
   "execution_count": 96,
   "metadata": {},
   "outputs": [
    {
     "data": {
      "text/plain": [
       "CRIM       float64\n",
       "ZN         float64\n",
       "INDUS      float64\n",
       "CHAS       float64\n",
       "NOX        float64\n",
       "RM         float64\n",
       "AGE        float64\n",
       "DIS        float64\n",
       "RAD        float64\n",
       "TAX        float64\n",
       "PTRATIO    float64\n",
       "B          float64\n",
       "LSTAT      float64\n",
       "MEDV       float64\n",
       "dtype: object"
      ]
     },
     "execution_count": 96,
     "metadata": {},
     "output_type": "execute_result"
    }
   ],
   "source": [
    "df.dtypes # No categorical data"
   ]
  },
  {
   "cell_type": "code",
   "execution_count": 97,
   "metadata": {},
   "outputs": [
    {
     "name": "stdout",
     "output_type": "stream",
     "text": [
      "<class 'pandas.core.frame.DataFrame'>\n",
      "RangeIndex: 404 entries, 0 to 403\n",
      "Data columns (total 14 columns):\n",
      " #   Column   Non-Null Count  Dtype  \n",
      "---  ------   --------------  -----  \n",
      " 0   CRIM     404 non-null    float64\n",
      " 1   ZN       404 non-null    float64\n",
      " 2   INDUS    404 non-null    float64\n",
      " 3   CHAS     404 non-null    float64\n",
      " 4   NOX      404 non-null    float64\n",
      " 5   RM       404 non-null    float64\n",
      " 6   AGE      404 non-null    float64\n",
      " 7   DIS      404 non-null    float64\n",
      " 8   RAD      404 non-null    float64\n",
      " 9   TAX      404 non-null    float64\n",
      " 10  PTRATIO  404 non-null    float64\n",
      " 11  B        404 non-null    float64\n",
      " 12  LSTAT    404 non-null    float64\n",
      " 13  MEDV     404 non-null    float64\n",
      "dtypes: float64(14)\n",
      "memory usage: 44.3 KB\n"
     ]
    }
   ],
   "source": [
    "df.info()"
   ]
  },
  {
   "cell_type": "code",
   "execution_count": 98,
   "metadata": {},
   "outputs": [
    {
     "data": {
      "text/plain": [
       "CRIM       0\n",
       "ZN         0\n",
       "INDUS      0\n",
       "CHAS       0\n",
       "NOX        0\n",
       "RM         0\n",
       "AGE        0\n",
       "DIS        0\n",
       "RAD        0\n",
       "TAX        0\n",
       "PTRATIO    0\n",
       "B          0\n",
       "LSTAT      0\n",
       "MEDV       0\n",
       "dtype: int64"
      ]
     },
     "execution_count": 98,
     "metadata": {},
     "output_type": "execute_result"
    }
   ],
   "source": [
    "df.isnull().sum()"
   ]
  },
  {
   "cell_type": "markdown",
   "metadata": {},
   "source": [
    "there are no missing values and no noise in the data"
   ]
  },
  {
   "cell_type": "code",
   "execution_count": 99,
   "metadata": {},
   "outputs": [
    {
     "data": {
      "text/plain": [
       "207"
      ]
     },
     "execution_count": 99,
     "metadata": {},
     "output_type": "execute_result"
    }
   ],
   "source": [
    "len(df.MEDV.unique())"
   ]
  },
  {
   "cell_type": "code",
   "execution_count": 100,
   "metadata": {},
   "outputs": [
    {
     "data": {
      "text/html": [
       "<div>\n",
       "<style scoped>\n",
       "    .dataframe tbody tr th:only-of-type {\n",
       "        vertical-align: middle;\n",
       "    }\n",
       "\n",
       "    .dataframe tbody tr th {\n",
       "        vertical-align: top;\n",
       "    }\n",
       "\n",
       "    .dataframe thead th {\n",
       "        text-align: right;\n",
       "    }\n",
       "</style>\n",
       "<table border=\"1\" class=\"dataframe\">\n",
       "  <thead>\n",
       "    <tr style=\"text-align: right;\">\n",
       "      <th></th>\n",
       "      <th>CRIM</th>\n",
       "      <th>ZN</th>\n",
       "      <th>INDUS</th>\n",
       "      <th>CHAS</th>\n",
       "      <th>NOX</th>\n",
       "      <th>RM</th>\n",
       "      <th>AGE</th>\n",
       "      <th>DIS</th>\n",
       "      <th>RAD</th>\n",
       "      <th>TAX</th>\n",
       "      <th>PTRATIO</th>\n",
       "      <th>B</th>\n",
       "      <th>LSTAT</th>\n",
       "      <th>MEDV</th>\n",
       "    </tr>\n",
       "  </thead>\n",
       "  <tbody>\n",
       "    <tr>\n",
       "      <th>count</th>\n",
       "      <td>404.000000</td>\n",
       "      <td>404.000000</td>\n",
       "      <td>404.000000</td>\n",
       "      <td>404.000000</td>\n",
       "      <td>404.000000</td>\n",
       "      <td>404.000000</td>\n",
       "      <td>404.000000</td>\n",
       "      <td>404.000000</td>\n",
       "      <td>404.000000</td>\n",
       "      <td>404.000000</td>\n",
       "      <td>404.000000</td>\n",
       "      <td>404.000000</td>\n",
       "      <td>404.000000</td>\n",
       "      <td>404.000000</td>\n",
       "    </tr>\n",
       "    <tr>\n",
       "      <th>mean</th>\n",
       "      <td>3.609125</td>\n",
       "      <td>11.569307</td>\n",
       "      <td>10.985050</td>\n",
       "      <td>0.071782</td>\n",
       "      <td>0.556484</td>\n",
       "      <td>6.315891</td>\n",
       "      <td>68.556436</td>\n",
       "      <td>3.808195</td>\n",
       "      <td>9.356436</td>\n",
       "      <td>404.032178</td>\n",
       "      <td>18.318317</td>\n",
       "      <td>356.278342</td>\n",
       "      <td>12.457351</td>\n",
       "      <td>22.796535</td>\n",
       "    </tr>\n",
       "    <tr>\n",
       "      <th>std</th>\n",
       "      <td>8.875058</td>\n",
       "      <td>23.152481</td>\n",
       "      <td>6.894618</td>\n",
       "      <td>0.258447</td>\n",
       "      <td>0.117704</td>\n",
       "      <td>0.709452</td>\n",
       "      <td>27.994922</td>\n",
       "      <td>2.131226</td>\n",
       "      <td>8.589721</td>\n",
       "      <td>166.172655</td>\n",
       "      <td>2.228701</td>\n",
       "      <td>91.566533</td>\n",
       "      <td>7.110381</td>\n",
       "      <td>9.332147</td>\n",
       "    </tr>\n",
       "    <tr>\n",
       "      <th>min</th>\n",
       "      <td>0.009060</td>\n",
       "      <td>0.000000</td>\n",
       "      <td>0.740000</td>\n",
       "      <td>0.000000</td>\n",
       "      <td>0.385000</td>\n",
       "      <td>3.863000</td>\n",
       "      <td>2.900000</td>\n",
       "      <td>1.129600</td>\n",
       "      <td>1.000000</td>\n",
       "      <td>187.000000</td>\n",
       "      <td>12.600000</td>\n",
       "      <td>0.320000</td>\n",
       "      <td>1.730000</td>\n",
       "      <td>5.000000</td>\n",
       "    </tr>\n",
       "    <tr>\n",
       "      <th>25%</th>\n",
       "      <td>0.081437</td>\n",
       "      <td>0.000000</td>\n",
       "      <td>5.130000</td>\n",
       "      <td>0.000000</td>\n",
       "      <td>0.452000</td>\n",
       "      <td>5.890500</td>\n",
       "      <td>45.550000</td>\n",
       "      <td>2.087875</td>\n",
       "      <td>4.000000</td>\n",
       "      <td>279.000000</td>\n",
       "      <td>16.800000</td>\n",
       "      <td>375.472500</td>\n",
       "      <td>6.772500</td>\n",
       "      <td>16.950000</td>\n",
       "    </tr>\n",
       "    <tr>\n",
       "      <th>50%</th>\n",
       "      <td>0.261390</td>\n",
       "      <td>0.000000</td>\n",
       "      <td>8.560000</td>\n",
       "      <td>0.000000</td>\n",
       "      <td>0.538000</td>\n",
       "      <td>6.210000</td>\n",
       "      <td>77.700000</td>\n",
       "      <td>3.175750</td>\n",
       "      <td>5.000000</td>\n",
       "      <td>330.000000</td>\n",
       "      <td>18.700000</td>\n",
       "      <td>391.305000</td>\n",
       "      <td>10.925000</td>\n",
       "      <td>21.600000</td>\n",
       "    </tr>\n",
       "    <tr>\n",
       "      <th>75%</th>\n",
       "      <td>3.202962</td>\n",
       "      <td>20.000000</td>\n",
       "      <td>18.100000</td>\n",
       "      <td>0.000000</td>\n",
       "      <td>0.631000</td>\n",
       "      <td>6.636750</td>\n",
       "      <td>93.650000</td>\n",
       "      <td>5.400800</td>\n",
       "      <td>12.000000</td>\n",
       "      <td>666.000000</td>\n",
       "      <td>20.200000</td>\n",
       "      <td>395.755000</td>\n",
       "      <td>16.372500</td>\n",
       "      <td>26.400000</td>\n",
       "    </tr>\n",
       "    <tr>\n",
       "      <th>max</th>\n",
       "      <td>88.976200</td>\n",
       "      <td>100.000000</td>\n",
       "      <td>27.740000</td>\n",
       "      <td>1.000000</td>\n",
       "      <td>0.871000</td>\n",
       "      <td>8.780000</td>\n",
       "      <td>100.000000</td>\n",
       "      <td>12.126500</td>\n",
       "      <td>24.000000</td>\n",
       "      <td>711.000000</td>\n",
       "      <td>22.000000</td>\n",
       "      <td>396.900000</td>\n",
       "      <td>37.970000</td>\n",
       "      <td>50.000000</td>\n",
       "    </tr>\n",
       "  </tbody>\n",
       "</table>\n",
       "</div>"
      ],
      "text/plain": [
       "             CRIM          ZN       INDUS        CHAS         NOX          RM  \\\n",
       "count  404.000000  404.000000  404.000000  404.000000  404.000000  404.000000   \n",
       "mean     3.609125   11.569307   10.985050    0.071782    0.556484    6.315891   \n",
       "std      8.875058   23.152481    6.894618    0.258447    0.117704    0.709452   \n",
       "min      0.009060    0.000000    0.740000    0.000000    0.385000    3.863000   \n",
       "25%      0.081437    0.000000    5.130000    0.000000    0.452000    5.890500   \n",
       "50%      0.261390    0.000000    8.560000    0.000000    0.538000    6.210000   \n",
       "75%      3.202962   20.000000   18.100000    0.000000    0.631000    6.636750   \n",
       "max     88.976200  100.000000   27.740000    1.000000    0.871000    8.780000   \n",
       "\n",
       "              AGE         DIS         RAD         TAX     PTRATIO           B  \\\n",
       "count  404.000000  404.000000  404.000000  404.000000  404.000000  404.000000   \n",
       "mean    68.556436    3.808195    9.356436  404.032178   18.318317  356.278342   \n",
       "std     27.994922    2.131226    8.589721  166.172655    2.228701   91.566533   \n",
       "min      2.900000    1.129600    1.000000  187.000000   12.600000    0.320000   \n",
       "25%     45.550000    2.087875    4.000000  279.000000   16.800000  375.472500   \n",
       "50%     77.700000    3.175750    5.000000  330.000000   18.700000  391.305000   \n",
       "75%     93.650000    5.400800   12.000000  666.000000   20.200000  395.755000   \n",
       "max    100.000000   12.126500   24.000000  711.000000   22.000000  396.900000   \n",
       "\n",
       "            LSTAT        MEDV  \n",
       "count  404.000000  404.000000  \n",
       "mean    12.457351   22.796535  \n",
       "std      7.110381    9.332147  \n",
       "min      1.730000    5.000000  \n",
       "25%      6.772500   16.950000  \n",
       "50%     10.925000   21.600000  \n",
       "75%     16.372500   26.400000  \n",
       "max     37.970000   50.000000  "
      ]
     },
     "execution_count": 100,
     "metadata": {},
     "output_type": "execute_result"
    }
   ],
   "source": [
    "df.describe()"
   ]
  },
  {
   "cell_type": "code",
   "execution_count": 101,
   "metadata": {},
   "outputs": [
    {
     "data": {
      "text/plain": [
       "<AxesSubplot:>"
      ]
     },
     "execution_count": 101,
     "metadata": {},
     "output_type": "execute_result"
    },
    {
     "data": {
      "image/png": "[encoded data removed]",
      "text/plain": [
       "<Figure size 432x288 with 1 Axes>"
      ]
     },
     "metadata": {
      "needs_background": "light"
     },
     "output_type": "display_data"
    }
   ],
   "source": [
    "sns.barplot(data=df)"
   ]
  },
  {
   "cell_type": "code",
   "execution_count": 102,
   "metadata": {},
   "outputs": [
    {
     "data": {
      "text/plain": [
       "<AxesSubplot:>"
      ]
     },
     "execution_count": 102,
     "metadata": {},
     "output_type": "execute_result"
    },
    {
     "data": {
      "image/png": "[encoded data removed]",
      "text/plain": [
       "<Figure size 432x288 with 1 Axes>"
      ]
     },
     "metadata": {
      "needs_background": "light"
     },
     "output_type": "display_data"
    }
   ],
   "source": [
    "sns.boxplot(data=df)"
   ]
  },
  {
   "cell_type": "code",
   "execution_count": 103,
   "metadata": {},
   "outputs": [
    {
     "data": {
      "text/plain": [
       "(array([[402.,   2.,   0.,   0.,   0.,   0.,   0.,   0.,   0.,   0.],\n",
       "        [380.,  24.,   0.,   0.,   0.,   0.,   0.,   0.,   0.,   0.],\n",
       "        [404.,   0.,   0.,   0.,   0.,   0.,   0.,   0.,   0.,   0.],\n",
       "        [404.,   0.,   0.,   0.,   0.,   0.,   0.,   0.,   0.,   0.],\n",
       "        [404.,   0.,   0.,   0.,   0.,   0.,   0.,   0.,   0.,   0.],\n",
       "        [404.,   0.,   0.,   0.,   0.,   0.,   0.,   0.,   0.,   0.],\n",
       "        [179., 225.,   0.,   0.,   0.,   0.,   0.,   0.,   0.,   0.],\n",
       "        [404.,   0.,   0.,   0.,   0.,   0.,   0.,   0.,   0.,   0.],\n",
       "        [404.,   0.,   0.,   0.,   0.,   0.,   0.,   0.,   0.,   0.],\n",
       "        [  0.,   0.,  16.,  97., 104.,  59.,  24.,   0.,   0., 104.],\n",
       "        [404.,   0.,   0.,   0.,   0.,   0.,   0.,   0.,   0.,   0.],\n",
       "        [ 19.,  10.,   4.,   6.,  36., 329.,   0.,   0.,   0.,   0.],\n",
       "        [404.,   0.,   0.,   0.,   0.,   0.,   0.,   0.,   0.,   0.],\n",
       "        [404.,   0.,   0.,   0.,   0.,   0.,   0.,   0.,   0.,   0.]]),\n",
       " array([  0. ,  71.1, 142.2, 213.3, 284.4, 355.5, 426.6, 497.7, 568.8,\n",
       "        639.9, 711. ]),\n",
       " <a list of 14 BarContainer objects>)"
      ]
     },
     "execution_count": 103,
     "metadata": {},
     "output_type": "execute_result"
    },
    {
     "data": {
      "image/png": "[encoded data removed]",
      "text/plain": [
       "<Figure size 432x288 with 1 Axes>"
      ]
     },
     "metadata": {
      "needs_background": "light"
     },
     "output_type": "display_data"
    }
   ],
   "source": [
    "plt.hist(df)"
   ]
  },
  {
   "cell_type": "code",
   "execution_count": 104,
   "metadata": {},
   "outputs": [
    {
     "data": {
      "text/plain": [
       "(array([ 18.,  43.,  63., 121.,  66.,  33.,  26.,   8.,   9.,  17.]),\n",
       " array([ 5. ,  9.5, 14. , 18.5, 23. , 27.5, 32. , 36.5, 41. , 45.5, 50. ]),\n",
       " <BarContainer object of 10 artists>)"
      ]
     },
     "execution_count": 104,
     "metadata": {},
     "output_type": "execute_result"
    },
    {
     "data": {
      "image/png": "[encoded data removed]",
      "text/plain": [
       "<Figure size 432x288 with 1 Axes>"
      ]
     },
     "metadata": {
      "needs_background": "light"
     },
     "output_type": "display_data"
    }
   ],
   "source": [
    "plt.hist(df['MEDV'])"
   ]
  },
  {
   "cell_type": "markdown",
   "metadata": {},
   "source": [
    "Data Modeling"
   ]
  },
  {
   "cell_type": "code",
   "execution_count": 105,
   "metadata": {},
   "outputs": [],
   "source": [
    "X=df.iloc[:,0:-1]\n",
    "y=df['MEDV']"
   ]
  },
  {
   "cell_type": "code",
   "execution_count": 106,
   "metadata": {},
   "outputs": [],
   "source": [
    "from sklearn.model_selection import train_test_split"
   ]
  },
  {
   "cell_type": "code",
   "execution_count": 107,
   "metadata": {},
   "outputs": [],
   "source": [
    "X_train,X_test,y_train,y_test =train_test_split(X,y,test_size =0.3,random_state =42)"
   ]
  },
  {
   "cell_type": "code",
   "execution_count": 108,
   "metadata": {},
   "outputs": [
    {
     "data": {
      "text/plain": [
       "((282, 13), (282,), (122, 13), (122,))"
      ]
     },
     "execution_count": 108,
     "metadata": {},
     "output_type": "execute_result"
    }
   ],
   "source": [
    "X_train.shape,y_train.shape,X_test.shape,y_test.shape"
   ]
  },
  {
   "cell_type": "code",
   "execution_count": 109,
   "metadata": {},
   "outputs": [
    {
     "name": "stdout",
     "output_type": "stream",
     "text": [
      "13\n"
     ]
    }
   ],
   "source": [
    "n_features =X.shape[1]\n",
    "print(n_features)"
   ]
  },
  {
   "cell_type": "markdown",
   "metadata": {},
   "source": [
    "the 5 step model life Cycle\n",
    "1.Define the model\n",
    "2.Compile the model\n",
    "3.fit the model\n",
    "4.Make predictions on the model\n",
    "5.Evaluate the model"
   ]
  },
  {
   "cell_type": "code",
   "execution_count": 110,
   "metadata": {},
   "outputs": [],
   "source": [
    "#import statements\n",
    "from tensorflow.keras import Sequential#import Sequential  from tensorflow.keras\n",
    "from tensorflow.keras.layers import Dense# import dense form tensorflow.keras.layers\n",
    "from numpy.random import seed #  this seed helps us to fix the randomness in the neural network\n",
    "import tensorflow"
   ]
  },
  {
   "cell_type": "code",
   "execution_count": 111,
   "metadata": {},
   "outputs": [],
   "source": [
    "#Defining the model\n",
    "model=Sequential()\n",
    "model.add(Dense(10,activation ='relu',input_shape =(n_features,)))\n",
    "model.add(Dense(8,activation ='relu'))\n",
    "model.add(Dense(1))"
   ]
  },
  {
   "cell_type": "code",
   "execution_count": 112,
   "metadata": {},
   "outputs": [],
   "source": [
    "#Compile the Model\n",
    "from tensorflow.keras.optimizers import RMSprop#importing the RMS group optimizers\n",
    "optimizer =RMSprop(0.01)#0.01 is a learning Rate"
   ]
  },
  {
   "cell_type": "code",
   "execution_count": 113,
   "metadata": {},
   "outputs": [],
   "source": [
    "# we cannot analytically calculate the optimal learning rate \n",
    "# for a given model on a given dataset inseted of good learning rate must be discovered via trail and error\n",
    "#A defualt learning rate value  is 0.1 or 0.01"
   ]
  },
  {
   "cell_type": "code",
   "execution_count": 114,
   "metadata": {},
   "outputs": [],
   "source": [
    "model.compile(loss=\"mean_squared_error\",optimizer =optimizer)# compile the model"
   ]
  },
  {
   "cell_type": "code",
   "execution_count": 115,
   "metadata": {},
   "outputs": [],
   "source": [
    "#Fitting the Model\n",
    "seed_value =42;\n",
    "seed(seed_value)"
   ]
  },
  {
   "cell_type": "code",
   "execution_count": 116,
   "metadata": {},
   "outputs": [],
   "source": [
    "#verbose 1 ==>[==============================]\n",
    "#verbose 2==> -\n",
    "#verbose 0 ==>  silent does nothing\n",
    "#verbose is nothing but we are seeing the training process for each epochs"
   ]
  },
  {
   "cell_type": "code",
   "execution_count": 117,
   "metadata": {},
   "outputs": [
    {
     "name": "stdout",
     "output_type": "stream",
     "text": [
      "Epoch 1/10\n",
      "10/10 [==============================] - 0s 3ms/step - loss: 310.1216\n",
      "Epoch 2/10\n",
      "10/10 [==============================] - 0s 1ms/step - loss: 95.6248\n",
      "Epoch 3/10\n",
      "10/10 [==============================] - 0s 887us/step - loss: 83.9177\n",
      "Epoch 4/10\n",
      "10/10 [==============================] - 0s 1ms/step - loss: 86.3169\n",
      "Epoch 5/10\n",
      "10/10 [==============================] - 0s 958us/step - loss: 92.3867\n",
      "Epoch 6/10\n",
      "10/10 [==============================] - 0s 984us/step - loss: 86.5492\n",
      "Epoch 7/10\n",
      "10/10 [==============================] - 0s 1ms/step - loss: 72.8030\n",
      "Epoch 8/10\n",
      "10/10 [==============================] - 0s 1ms/step - loss: 81.5768\n",
      "Epoch 9/10\n",
      "10/10 [==============================] - 0s 1ms/step - loss: 62.8403\n",
      "Epoch 10/10\n",
      "10/10 [==============================] - 0s 869us/step - loss: 76.2880\n"
     ]
    },
    {
     "data": {
      "text/plain": [
       "<tensorflow.python.keras.callbacks.History at 0x23e876a9580>"
      ]
     },
     "execution_count": 117,
     "metadata": {},
     "output_type": "execute_result"
    }
   ],
   "source": [
    "#import numpy as np\n",
    "import random\n",
    "random.seed(seed_value)\n",
    "tensorflow.random.set_seed(seed_value)\n",
    "model.fit(X_train,y_train,epochs =10,batch_size =30,verbose =1)"
   ]
  },
  {
   "cell_type": "code",
   "execution_count": 118,
   "metadata": {},
   "outputs": [
    {
     "data": {
      "text/plain": [
       "<tensorflow.python.keras.callbacks.History at 0x23e879e0e50>"
      ]
     },
     "execution_count": 118,
     "metadata": {},
     "output_type": "execute_result"
    }
   ],
   "source": [
    "#import numpy as np\n",
    "import random\n",
    "random.seed(seed_value)\n",
    "tensorflow.random.set_seed(seed_value)\n",
    "model.fit(X_train,y_train,epochs =10,batch_size =30,verbose =0)"
   ]
  },
  {
   "cell_type": "code",
   "execution_count": 119,
   "metadata": {},
   "outputs": [
    {
     "name": "stdout",
     "output_type": "stream",
     "text": [
      "Epoch 1/10\n",
      "10/10 - 0s - loss: 61.3444\n",
      "Epoch 2/10\n",
      "10/10 - 0s - loss: 55.3956\n",
      "Epoch 3/10\n",
      "10/10 - 0s - loss: 55.2406\n",
      "Epoch 4/10\n",
      "10/10 - 0s - loss: 59.6570\n",
      "Epoch 5/10\n",
      "10/10 - 0s - loss: 65.7754\n",
      "Epoch 6/10\n",
      "10/10 - 0s - loss: 47.2178\n",
      "Epoch 7/10\n",
      "10/10 - 0s - loss: 55.3440\n",
      "Epoch 8/10\n",
      "10/10 - 0s - loss: 46.5954\n",
      "Epoch 9/10\n",
      "10/10 - 0s - loss: 45.5358\n",
      "Epoch 10/10\n",
      "10/10 - 0s - loss: 60.1817\n"
     ]
    },
    {
     "data": {
      "text/plain": [
       "<tensorflow.python.keras.callbacks.History at 0x23e87a25640>"
      ]
     },
     "execution_count": 119,
     "metadata": {},
     "output_type": "execute_result"
    }
   ],
   "source": [
    "#import numpy as np\n",
    "import random\n",
    "random.seed(seed_value)\n",
    "tensorflow.random.set_seed(seed_value)\n",
    "model.fit(X_train,y_train,epochs =10,batch_size =30,verbose =2)"
   ]
  },
  {
   "cell_type": "code",
   "execution_count": 120,
   "metadata": {},
   "outputs": [
    {
     "name": "stdout",
     "output_type": "stream",
     "text": [
      "4/4 [==============================] - 0s 2ms/step - loss: 36.6996\n"
     ]
    },
    {
     "data": {
      "text/plain": [
       "36.699642181396484"
      ]
     },
     "execution_count": 120,
     "metadata": {},
     "output_type": "execute_result"
    }
   ],
   "source": [
    "model.evaluate(X_test,y_test)"
   ]
  },
  {
   "cell_type": "code",
   "execution_count": 121,
   "metadata": {},
   "outputs": [],
   "source": [
    "y_pred =model.predict(X_test)#predictions\n"
   ]
  },
  {
   "cell_type": "code",
   "execution_count": null,
   "metadata": {},
   "outputs": [],
   "source": []
  },
  {
   "cell_type": "markdown",
   "metadata": {},
   "source": [
    "let me play with learning Rate..?\n"
   ]
  },
  {
   "cell_type": "code",
   "execution_count": 122,
   "metadata": {},
   "outputs": [
    {
     "name": "stdout",
     "output_type": "stream",
     "text": [
      "Epoch 1/25\n",
      "10/10 - 0s - loss: 654863296.0000\n",
      "Epoch 2/25\n",
      "10/10 - 0s - loss: 113861.7031\n",
      "Epoch 3/25\n",
      "10/10 - 0s - loss: 5286072.0000\n",
      "Epoch 4/25\n",
      "10/10 - 0s - loss: 3133102.2500\n",
      "Epoch 5/25\n",
      "10/10 - 0s - loss: 1570757.1250\n",
      "Epoch 6/25\n",
      "10/10 - 0s - loss: 1369673.3750\n",
      "Epoch 7/25\n",
      "10/10 - 0s - loss: 1400582.5000\n",
      "Epoch 8/25\n",
      "10/10 - 0s - loss: 2655.6677\n",
      "Epoch 9/25\n",
      "10/10 - 0s - loss: 14893.5869\n",
      "Epoch 10/25\n",
      "10/10 - 0s - loss: 432976.9375\n",
      "Epoch 11/25\n",
      "10/10 - 0s - loss: 585.2492\n",
      "Epoch 12/25\n",
      "10/10 - 0s - loss: 223.4039\n",
      "Epoch 13/25\n",
      "10/10 - 0s - loss: 173.5621\n",
      "Epoch 14/25\n",
      "10/10 - 0s - loss: 126.9431\n",
      "Epoch 15/25\n",
      "10/10 - 0s - loss: 206.9944\n",
      "Epoch 16/25\n",
      "10/10 - 0s - loss: 902.6724\n",
      "Epoch 17/25\n",
      "10/10 - 0s - loss: 69.5802\n",
      "Epoch 18/25\n",
      "10/10 - 0s - loss: 88.4912\n",
      "Epoch 19/25\n",
      "10/10 - 0s - loss: 148.6532\n",
      "Epoch 20/25\n",
      "10/10 - 0s - loss: 215.2000\n",
      "Epoch 21/25\n",
      "10/10 - 0s - loss: 102.7866\n",
      "Epoch 22/25\n",
      "10/10 - 0s - loss: 136.6274\n",
      "Epoch 23/25\n",
      "10/10 - 0s - loss: 99.7908\n",
      "Epoch 24/25\n",
      "10/10 - 0s - loss: 107.9420\n",
      "Epoch 25/25\n",
      "10/10 - 0s - loss: 95.3888\n"
     ]
    },
    {
     "data": {
      "text/plain": [
       "<tensorflow.python.keras.callbacks.History at 0x23e87b07700>"
      ]
     },
     "execution_count": 122,
     "metadata": {},
     "output_type": "execute_result"
    }
   ],
   "source": [
    "learning_rate =0.5\n",
    "optimizer =RMSprop(learning_rate)\n",
    "epoch=25;\n",
    "verbosee=2\n",
    "model.compile(loss =\"mean_squared_error\",optimizer=optimizer)\n",
    "model.fit(X_train,y_train,epochs =epoch,batch_size =30,verbose =verbosee)"
   ]
  },
  {
   "cell_type": "code",
   "execution_count": 124,
   "metadata": {},
   "outputs": [
    {
     "name": "stdout",
     "output_type": "stream",
     "text": [
      "Epoch 1/55\n",
      "10/10 - 1s - loss: 114.4242\n",
      "Epoch 2/55\n",
      "10/10 - 0s - loss: 92.1839\n",
      "Epoch 3/55\n",
      "10/10 - 0s - loss: 100.5270\n",
      "Epoch 4/55\n",
      "10/10 - 0s - loss: 95.7648\n",
      "Epoch 5/55\n",
      "10/10 - 0s - loss: 97.3629\n",
      "Epoch 6/55\n",
      "10/10 - 0s - loss: 99.7431\n",
      "Epoch 7/55\n",
      "10/10 - 0s - loss: 104.9269\n",
      "Epoch 8/55\n",
      "10/10 - 0s - loss: 93.7444\n",
      "Epoch 9/55\n",
      "10/10 - 0s - loss: 97.6276\n",
      "Epoch 10/55\n",
      "10/10 - 0s - loss: 93.0593\n",
      "Epoch 11/55\n",
      "10/10 - 0s - loss: 100.8283\n",
      "Epoch 12/55\n",
      "10/10 - 0s - loss: 97.3362\n",
      "Epoch 13/55\n",
      "10/10 - 0s - loss: 93.3961\n",
      "Epoch 14/55\n",
      "10/10 - 0s - loss: 98.8399\n",
      "Epoch 15/55\n",
      "10/10 - 0s - loss: 96.6525\n",
      "Epoch 16/55\n",
      "10/10 - 0s - loss: 99.0798\n",
      "Epoch 17/55\n",
      "10/10 - 0s - loss: 94.7616\n",
      "Epoch 18/55\n",
      "10/10 - 0s - loss: 95.9240\n",
      "Epoch 19/55\n",
      "10/10 - 0s - loss: 97.0025\n",
      "Epoch 20/55\n",
      "10/10 - 0s - loss: 97.8438\n",
      "Epoch 21/55\n",
      "10/10 - 0s - loss: 97.7455\n",
      "Epoch 22/55\n",
      "10/10 - 0s - loss: 112.0269\n",
      "Epoch 23/55\n",
      "10/10 - 0s - loss: 96.7607\n",
      "Epoch 24/55\n",
      "10/10 - 0s - loss: 100.1744\n",
      "Epoch 25/55\n",
      "10/10 - 0s - loss: 94.4080\n",
      "Epoch 26/55\n",
      "10/10 - 0s - loss: 109.3669\n",
      "Epoch 27/55\n",
      "10/10 - 0s - loss: 101.8844\n",
      "Epoch 28/55\n",
      "10/10 - 0s - loss: 91.2789\n",
      "Epoch 29/55\n",
      "10/10 - 0s - loss: 105.6220\n",
      "Epoch 30/55\n",
      "10/10 - 0s - loss: 91.2998\n",
      "Epoch 31/55\n",
      "10/10 - 0s - loss: 107.6424\n",
      "Epoch 32/55\n",
      "10/10 - 0s - loss: 91.5528\n",
      "Epoch 33/55\n",
      "10/10 - 0s - loss: 101.9718\n",
      "Epoch 34/55\n",
      "10/10 - 0s - loss: 100.8687\n",
      "Epoch 35/55\n",
      "10/10 - 0s - loss: 99.5391\n",
      "Epoch 36/55\n",
      "10/10 - 0s - loss: 95.9239\n",
      "Epoch 37/55\n",
      "10/10 - 0s - loss: 94.0567\n",
      "Epoch 38/55\n",
      "10/10 - 0s - loss: 107.7587\n",
      "Epoch 39/55\n",
      "10/10 - 0s - loss: 95.3253\n",
      "Epoch 40/55\n",
      "10/10 - 0s - loss: 98.1626\n",
      "Epoch 41/55\n",
      "10/10 - 0s - loss: 95.6172\n",
      "Epoch 42/55\n",
      "10/10 - 0s - loss: 97.5415\n",
      "Epoch 43/55\n",
      "10/10 - 0s - loss: 101.4301\n",
      "Epoch 44/55\n",
      "10/10 - 0s - loss: 106.9037\n",
      "Epoch 45/55\n",
      "10/10 - 0s - loss: 94.2416\n",
      "Epoch 46/55\n",
      "10/10 - 0s - loss: 102.4278\n",
      "Epoch 47/55\n",
      "10/10 - 0s - loss: 91.5884\n",
      "Epoch 48/55\n",
      "10/10 - 0s - loss: 97.7499\n",
      "Epoch 49/55\n",
      "10/10 - 0s - loss: 101.8892\n",
      "Epoch 50/55\n",
      "10/10 - 0s - loss: 92.5185\n",
      "Epoch 51/55\n",
      "10/10 - 0s - loss: 106.2836\n",
      "Epoch 52/55\n",
      "10/10 - 0s - loss: 100.4134\n",
      "Epoch 53/55\n",
      "10/10 - 0s - loss: 95.3947\n",
      "Epoch 54/55\n",
      "10/10 - 0s - loss: 97.4964\n",
      "Epoch 55/55\n",
      "10/10 - 0s - loss: 97.7363\n"
     ]
    },
    {
     "data": {
      "text/plain": [
       "<tensorflow.python.keras.callbacks.History at 0x23e89182f70>"
      ]
     },
     "execution_count": 124,
     "metadata": {},
     "output_type": "execute_result"
    }
   ],
   "source": [
    "learning_rate =5.0\n",
    "optimizer =RMSprop(learning_rate)\n",
    "epoch=55;\n",
    "verbosee=2\n",
    "model.compile(loss =\"mean_squared_error\",optimizer=optimizer)\n",
    "model.fit(X_train,y_train,epochs =epoch,batch_size =30,verbose =verbosee)"
   ]
  },
  {
   "cell_type": "code",
   "execution_count": 125,
   "metadata": {},
   "outputs": [
    {
     "name": "stdout",
     "output_type": "stream",
     "text": [
      "Epoch 1/100\n",
      "10/10 [==============================] - 0s 1ms/step - loss: 49136.2422\n",
      "Epoch 2/100\n",
      "10/10 [==============================] - 0s 1ms/step - loss: 275.4187\n",
      "Epoch 3/100\n",
      "10/10 [==============================] - 0s 1ms/step - loss: 114.0035\n",
      "Epoch 4/100\n",
      "10/10 [==============================] - 0s 1ms/step - loss: 114.8271\n",
      "Epoch 5/100\n",
      "10/10 [==============================] - 0s 1ms/step - loss: 102.4311\n",
      "Epoch 6/100\n",
      "10/10 [==============================] - 0s 1ms/step - loss: 193.0973\n",
      "Epoch 7/100\n",
      "10/10 [==============================] - 0s 985us/step - loss: 196.8468\n",
      "Epoch 8/100\n",
      "10/10 [==============================] - 0s 953us/step - loss: 215.6512\n",
      "Epoch 9/100\n",
      "10/10 [==============================] - 0s 995us/step - loss: 296.4408\n",
      "Epoch 10/100\n",
      "10/10 [==============================] - 0s 872us/step - loss: 428.0375\n",
      "Epoch 11/100\n",
      "10/10 [==============================] - 0s 866us/step - loss: 304.0753\n",
      "Epoch 12/100\n",
      "10/10 [==============================] - 0s 1ms/step - loss: 163.5363\n",
      "Epoch 13/100\n",
      "10/10 [==============================] - 0s 892us/step - loss: 97.7797\n",
      "Epoch 14/100\n",
      "10/10 [==============================] - 0s 832us/step - loss: 91.1177\n",
      "Epoch 15/100\n",
      "10/10 [==============================] - 0s 964us/step - loss: 90.9501\n",
      "Epoch 16/100\n",
      "10/10 [==============================] - 0s 997us/step - loss: 91.0210\n",
      "Epoch 17/100\n",
      "10/10 [==============================] - 0s 829us/step - loss: 90.6991\n",
      "Epoch 18/100\n",
      "10/10 [==============================] - 0s 948us/step - loss: 90.9784\n",
      "Epoch 19/100\n",
      "10/10 [==============================] - 0s 828us/step - loss: 92.9751\n",
      "Epoch 20/100\n",
      "10/10 [==============================] - 0s 883us/step - loss: 92.3787\n",
      "Epoch 21/100\n",
      "10/10 [==============================] - 0s 978us/step - loss: 92.1408\n",
      "Epoch 22/100\n",
      "10/10 [==============================] - 0s 886us/step - loss: 95.5256\n",
      "Epoch 23/100\n",
      "10/10 [==============================] - 0s 885us/step - loss: 92.6387\n",
      "Epoch 24/100\n",
      "10/10 [==============================] - 0s 996us/step - loss: 93.2018\n",
      "Epoch 25/100\n",
      "10/10 [==============================] - 0s 887us/step - loss: 90.9758\n",
      "Epoch 26/100\n",
      "10/10 [==============================] - 0s 903us/step - loss: 93.5925\n",
      "Epoch 27/100\n",
      "10/10 [==============================] - 0s 885us/step - loss: 93.7102\n",
      "Epoch 28/100\n",
      "10/10 [==============================] - 0s 886us/step - loss: 90.6094\n",
      "Epoch 29/100\n",
      "10/10 [==============================] - 0s 886us/step - loss: 93.1463\n",
      "Epoch 30/100\n",
      "10/10 [==============================] - 0s 997us/step - loss: 90.7801\n",
      "Epoch 31/100\n",
      "10/10 [==============================] - 0s 953us/step - loss: 93.9842\n",
      "Epoch 32/100\n",
      "10/10 [==============================] - 0s 999us/step - loss: 90.7841\n",
      "Epoch 33/100\n",
      "10/10 [==============================] - 0s 910us/step - loss: 91.9514\n",
      "Epoch 34/100\n",
      "10/10 [==============================] - 0s 1ms/step - loss: 92.2153\n",
      "Epoch 35/100\n",
      "10/10 [==============================] - 0s 886us/step - loss: 92.7691\n",
      "Epoch 36/100\n",
      "10/10 [==============================] - 0s 1ms/step - loss: 91.3929\n",
      "Epoch 37/100\n",
      "10/10 [==============================] - 0s 998us/step - loss: 91.6565\n",
      "Epoch 38/100\n",
      "10/10 [==============================] - 0s 1ms/step - loss: 93.4642\n",
      "Epoch 39/100\n",
      "10/10 [==============================] - 0s 997us/step - loss: 91.2202\n",
      "Epoch 40/100\n",
      "10/10 [==============================] - 0s 997us/step - loss: 91.6249\n",
      "Epoch 41/100\n",
      "10/10 [==============================] - 0s 1ms/step - loss: 91.7061\n",
      "Epoch 42/100\n",
      "10/10 [==============================] - 0s 1ms/step - loss: 92.9047\n",
      "Epoch 43/100\n",
      "10/10 [==============================] - 0s 1ms/step - loss: 92.6321\n",
      "Epoch 44/100\n",
      "10/10 [==============================] - 0s 1ms/step - loss: 93.2989\n",
      "Epoch 45/100\n",
      "10/10 [==============================] - 0s 1ms/step - loss: 91.2912\n",
      "Epoch 46/100\n",
      "10/10 [==============================] - 0s 898us/step - loss: 92.3553\n",
      "Epoch 47/100\n",
      "10/10 [==============================] - 0s 1ms/step - loss: 90.3315\n",
      "Epoch 48/100\n",
      "10/10 [==============================] - 0s 886us/step - loss: 92.3693\n",
      "Epoch 49/100\n",
      "10/10 [==============================] - 0s 933us/step - loss: 92.2307\n",
      "Epoch 50/100\n",
      "10/10 [==============================] - 0s 1ms/step - loss: 90.5833\n",
      "Epoch 51/100\n",
      "10/10 [==============================] - 0s 1ms/step - loss: 94.0032\n",
      "Epoch 52/100\n",
      "10/10 [==============================] - 0s 886us/step - loss: 91.8925\n",
      "Epoch 53/100\n",
      "10/10 [==============================] - 0s 1ms/step - loss: 90.2553\n",
      "Epoch 54/100\n",
      "10/10 [==============================] - 0s 1ms/step - loss: 91.9352\n",
      "Epoch 55/100\n",
      "10/10 [==============================] - 0s 941us/step - loss: 90.9281\n",
      "Epoch 56/100\n",
      "10/10 [==============================] - 0s 940us/step - loss: 91.5688\n",
      "Epoch 57/100\n",
      "10/10 [==============================] - 0s 895us/step - loss: 94.1637\n",
      "Epoch 58/100\n",
      "10/10 [==============================] - 0s 1ms/step - loss: 92.5102\n",
      "Epoch 59/100\n",
      "10/10 [==============================] - 0s 1ms/step - loss: 93.2700\n",
      "Epoch 60/100\n",
      "10/10 [==============================] - 0s 1ms/step - loss: 94.7147\n",
      "Epoch 61/100\n",
      "10/10 [==============================] - 0s 775us/step - loss: 92.6309\n",
      "Epoch 62/100\n",
      "10/10 [==============================] - 0s 1ms/step - loss: 91.1385\n",
      "Epoch 63/100\n",
      "10/10 [==============================] - 0s 973us/step - loss: 92.5291\n",
      "Epoch 64/100\n",
      "10/10 [==============================] - 0s 1ms/step - loss: 91.0462\n",
      "Epoch 65/100\n",
      "10/10 [==============================] - 0s 2ms/step - loss: 93.9582\n",
      "Epoch 66/100\n",
      "10/10 [==============================] - 0s 1ms/step - loss: 91.0534\n",
      "Epoch 67/100\n",
      "10/10 [==============================] - 0s 1ms/step - loss: 91.3344\n",
      "Epoch 68/100\n",
      "10/10 [==============================] - 0s 1ms/step - loss: 91.5595\n",
      "Epoch 69/100\n",
      "10/10 [==============================] - 0s 996us/step - loss: 94.1208\n",
      "Epoch 70/100\n",
      "10/10 [==============================] - 0s 895us/step - loss: 91.0971\n",
      "Epoch 71/100\n",
      "10/10 [==============================] - 0s 885us/step - loss: 91.9611\n",
      "Epoch 72/100\n",
      "10/10 [==============================] - 0s 876us/step - loss: 91.8264\n",
      "Epoch 73/100\n",
      "10/10 [==============================] - 0s 954us/step - loss: 92.9920\n",
      "Epoch 74/100\n",
      "10/10 [==============================] - 0s 943us/step - loss: 95.1098\n",
      "Epoch 75/100\n",
      "10/10 [==============================] - 0s 1ms/step - loss: 90.2537\n",
      "Epoch 76/100\n",
      "10/10 [==============================] - 0s 997us/step - loss: 92.3072\n",
      "Epoch 77/100\n",
      "10/10 [==============================] - 0s 946us/step - loss: 91.7315\n",
      "Epoch 78/100\n",
      "10/10 [==============================] - 0s 1ms/step - loss: 93.5376\n",
      "Epoch 79/100\n",
      "10/10 [==============================] - 0s 970us/step - loss: 91.2140\n",
      "Epoch 80/100\n",
      "10/10 [==============================] - 0s 885us/step - loss: 90.8689\n",
      "Epoch 81/100\n",
      "10/10 [==============================] - 0s 943us/step - loss: 91.3955\n",
      "Epoch 82/100\n",
      "10/10 [==============================] - ETA: 0s - loss: 35.07 - 0s 1ms/step - loss: 89.7051\n",
      "Epoch 83/100\n",
      "10/10 [==============================] - 0s 1ms/step - loss: 91.9365\n",
      "Epoch 84/100\n",
      "10/10 [==============================] - 0s 997us/step - loss: 91.4655\n",
      "Epoch 85/100\n",
      "10/10 [==============================] - 0s 783us/step - loss: 94.2006\n",
      "Epoch 86/100\n",
      "10/10 [==============================] - 0s 1ms/step - loss: 91.8277\n",
      "Epoch 87/100\n",
      "10/10 [==============================] - 0s 1ms/step - loss: 91.0885\n",
      "Epoch 88/100\n",
      "10/10 [==============================] - 0s 1ms/step - loss: 91.8150\n",
      "Epoch 89/100\n",
      "10/10 [==============================] - 0s 997us/step - loss: 93.7463\n",
      "Epoch 90/100\n",
      "10/10 [==============================] - 0s 917us/step - loss: 91.5460\n",
      "Epoch 91/100\n",
      "10/10 [==============================] - 0s 1ms/step - loss: 93.0930\n",
      "Epoch 92/100\n",
      "10/10 [==============================] - 0s 888us/step - loss: 91.7808\n",
      "Epoch 93/100\n",
      "10/10 [==============================] - 0s 797us/step - loss: 92.4528\n",
      "Epoch 94/100\n",
      "10/10 [==============================] - 0s 886us/step - loss: 91.0097\n",
      "Epoch 95/100\n",
      "10/10 [==============================] - 0s 1ms/step - loss: 94.7356\n",
      "Epoch 96/100\n",
      "10/10 [==============================] - 0s 791us/step - loss: 90.7531\n",
      "Epoch 97/100\n",
      "10/10 [==============================] - 0s 997us/step - loss: 91.6151\n",
      "Epoch 98/100\n",
      "10/10 [==============================] - 0s 1ms/step - loss: 91.0125\n",
      "Epoch 99/100\n"
     ]
    },
    {
     "name": "stdout",
     "output_type": "stream",
     "text": [
      "10/10 [==============================] - 0s 886us/step - loss: 94.5881\n",
      "Epoch 100/100\n",
      "10/10 [==============================] - 0s 1ms/step - loss: 91.5862\n",
      "4/4 [==============================] - 0s 2ms/step - loss: 83.4685\n",
      "The MSE value is:  83.4684829711914\n"
     ]
    }
   ],
   "source": [
    "model = Sequential()\n",
    "model.add(Dense(10, activation='relu', input_shape=(n_features,)))\n",
    "model.add(Dense(8, activation='relu'))\n",
    "model.add(Dense(1))\n",
    "\n",
    "optimizer = RMSprop(0.1) # 0.1 is the learning rate\n",
    "model.compile(loss='mean_squared_error',optimizer=optimizer) # compile the model\n",
    "\n",
    "# fit the model\n",
    "model.fit(X_train, y_train, epochs=100, batch_size=30, verbose = 1)\n",
    "\n",
    "# evaluate the model\n",
    "print('The MSE value is: ', model.evaluate(X_test, y_test))"
   ]
  },
  {
   "cell_type": "code",
   "execution_count": 128,
   "metadata": {},
   "outputs": [
    {
     "name": "stdout",
     "output_type": "stream",
     "text": [
      "Epoch 1/111\n",
      "10/10 [==============================] - 0s 3ms/step - loss: 116.5390\n",
      "Epoch 2/111\n",
      "10/10 [==============================] - 0s 1ms/step - loss: 92.1575\n",
      "Epoch 3/111\n",
      "10/10 [==============================] - 0s 1ms/step - loss: 100.2203\n",
      "Epoch 4/111\n",
      "10/10 [==============================] - 0s 1ms/step - loss: 95.7935\n",
      "Epoch 5/111\n",
      "10/10 [==============================] - 0s 996us/step - loss: 97.3634\n",
      "Epoch 6/111\n",
      "10/10 [==============================] - 0s 933us/step - loss: 99.7433\n",
      "Epoch 7/111\n",
      "10/10 [==============================] - 0s 1ms/step - loss: 104.9268\n",
      "Epoch 8/111\n",
      "10/10 [==============================] - 0s 1ms/step - loss: 93.7444\n",
      "Epoch 9/111\n",
      "10/10 [==============================] - 0s 752us/step - loss: 97.6276\n",
      "Epoch 10/111\n",
      "10/10 [==============================] - 0s 1ms/step - loss: 93.0593\n",
      "Epoch 11/111\n",
      "10/10 [==============================] - 0s 1ms/step - loss: 100.8283\n",
      "Epoch 12/111\n",
      "10/10 [==============================] - 0s 778us/step - loss: 97.3362\n",
      "Epoch 13/111\n",
      "10/10 [==============================] - 0s 885us/step - loss: 93.3961\n",
      "Epoch 14/111\n",
      "10/10 [==============================] - 0s 1ms/step - loss: 98.8399\n",
      "Epoch 15/111\n",
      "10/10 [==============================] - 0s 879us/step - loss: 96.6525\n",
      "Epoch 16/111\n",
      "10/10 [==============================] - 0s 891us/step - loss: 99.0798\n",
      "Epoch 17/111\n",
      "10/10 [==============================] - 0s 1ms/step - loss: 94.7616\n",
      "Epoch 18/111\n",
      "10/10 [==============================] - 0s 904us/step - loss: 95.9240\n",
      "Epoch 19/111\n",
      "10/10 [==============================] - 0s 849us/step - loss: 97.0025\n",
      "Epoch 20/111\n",
      "10/10 [==============================] - 0s 1ms/step - loss: 97.8438\n",
      "Epoch 21/111\n",
      "10/10 [==============================] - 0s 887us/step - loss: 97.7455\n",
      "Epoch 22/111\n",
      "10/10 [==============================] - 0s 886us/step - loss: 112.0269\n",
      "Epoch 23/111\n",
      "10/10 [==============================] - 0s 997us/step - loss: 96.7607\n",
      "Epoch 24/111\n",
      "10/10 [==============================] - 0s 900us/step - loss: 100.1744\n",
      "Epoch 25/111\n",
      "10/10 [==============================] - 0s 777us/step - loss: 94.4080\n",
      "Epoch 26/111\n",
      "10/10 [==============================] - 0s 1ms/step - loss: 109.3669\n",
      "Epoch 27/111\n",
      "10/10 [==============================] - 0s 997us/step - loss: 101.8844\n",
      "Epoch 28/111\n",
      "10/10 [==============================] - 0s 887us/step - loss: 91.2789\n",
      "Epoch 29/111\n",
      "10/10 [==============================] - 0s 934us/step - loss: 105.6220\n",
      "Epoch 30/111\n",
      "10/10 [==============================] - 0s 997us/step - loss: 91.2998\n",
      "Epoch 31/111\n",
      "10/10 [==============================] - 0s 665us/step - loss: 107.6424\n",
      "Epoch 32/111\n",
      "10/10 [==============================] - 0s 931us/step - loss: 91.5528\n",
      "Epoch 33/111\n",
      "10/10 [==============================] - 0s 887us/step - loss: 101.9718\n",
      "Epoch 34/111\n",
      "10/10 [==============================] - 0s 776us/step - loss: 100.8687\n",
      "Epoch 35/111\n",
      "10/10 [==============================] - 0s 882us/step - loss: 99.5391\n",
      "Epoch 36/111\n",
      "10/10 [==============================] - 0s 1ms/step - loss: 95.9239\n",
      "Epoch 37/111\n",
      "10/10 [==============================] - 0s 999us/step - loss: 94.0567\n",
      "Epoch 38/111\n",
      "10/10 [==============================] - 0s 816us/step - loss: 107.7587\n",
      "Epoch 39/111\n",
      "10/10 [==============================] - 0s 952us/step - loss: 95.3253\n",
      "Epoch 40/111\n",
      "10/10 [==============================] - 0s 1ms/step - loss: 98.1626\n",
      "Epoch 41/111\n",
      "10/10 [==============================] - 0s 780us/step - loss: 95.6172\n",
      "Epoch 42/111\n",
      "10/10 [==============================] - 0s 1ms/step - loss: 97.5415\n",
      "Epoch 43/111\n",
      "10/10 [==============================] - 0s 997us/step - loss: 101.4301\n",
      "Epoch 44/111\n",
      "10/10 [==============================] - 0s 785us/step - loss: 106.9037\n",
      "Epoch 45/111\n",
      "10/10 [==============================] - 0s 1ms/step - loss: 94.2416\n",
      "Epoch 46/111\n",
      "10/10 [==============================] - 0s 1ms/step - loss: 102.4278\n",
      "Epoch 47/111\n",
      "10/10 [==============================] - 0s 1ms/step - loss: 91.5884\n",
      "Epoch 48/111\n",
      "10/10 [==============================] - 0s 910us/step - loss: 97.7499\n",
      "Epoch 49/111\n",
      "10/10 [==============================] - 0s 1ms/step - loss: 101.8892\n",
      "Epoch 50/111\n",
      "10/10 [==============================] - 0s 1ms/step - loss: 92.5185\n",
      "Epoch 51/111\n",
      "10/10 [==============================] - 0s 1ms/step - loss: 106.2836\n",
      "Epoch 52/111\n",
      "10/10 [==============================] - 0s 919us/step - loss: 100.4134\n",
      "Epoch 53/111\n",
      "10/10 [==============================] - 0s 1ms/step - loss: 95.3947\n",
      "Epoch 54/111\n",
      "10/10 [==============================] - 0s 1ms/step - loss: 97.4964\n",
      "Epoch 55/111\n",
      "10/10 [==============================] - 0s 1ms/step - loss: 97.7363\n",
      "Epoch 56/111\n",
      "10/10 [==============================] - 0s 882us/step - loss: 93.5469\n",
      "Epoch 57/111\n",
      "10/10 [==============================] - 0s 940us/step - loss: 108.3560\n",
      "Epoch 58/111\n",
      "10/10 [==============================] - 0s 1ms/step - loss: 98.4387\n",
      "Epoch 59/111\n",
      "10/10 [==============================] - 0s 1ms/step - loss: 100.6509\n",
      "Epoch 60/111\n",
      "10/10 [==============================] - 0s 775us/step - loss: 109.0441\n",
      "Epoch 61/111\n",
      "10/10 [==============================] - 0s 1ms/step - loss: 98.0440\n",
      "Epoch 62/111\n",
      "10/10 [==============================] - 0s 950us/step - loss: 95.5381\n",
      "Epoch 63/111\n",
      "10/10 [==============================] - 0s 1ms/step - loss: 102.4964\n",
      "Epoch 64/111\n",
      "10/10 [==============================] - 0s 778us/step - loss: 95.4807\n",
      "Epoch 65/111\n",
      "10/10 [==============================] - 0s 886us/step - loss: 103.3591\n",
      "Epoch 66/111\n",
      "10/10 [==============================] - 0s 925us/step - loss: 94.8683\n",
      "Epoch 67/111\n",
      "10/10 [==============================] - 0s 1ms/step - loss: 95.8245\n",
      "Epoch 68/111\n",
      "10/10 [==============================] - 0s 1ms/step - loss: 101.1972\n",
      "Epoch 69/111\n",
      "10/10 [==============================] - 0s 945us/step - loss: 106.2921\n",
      "Epoch 70/111\n",
      "10/10 [==============================] - 0s 886us/step - loss: 90.5596\n",
      "Epoch 71/111\n",
      "10/10 [==============================] - 0s 915us/step - loss: 94.5179\n",
      "Epoch 72/111\n",
      "10/10 [==============================] - 0s 1ms/step - loss: 100.0648\n",
      "Epoch 73/111\n",
      "10/10 [==============================] - 0s 997us/step - loss: 100.1570\n",
      "Epoch 74/111\n",
      "10/10 [==============================] - 0s 707us/step - loss: 108.1884\n",
      "Epoch 75/111\n",
      "10/10 [==============================] - 0s 1ms/step - loss: 89.8009\n",
      "Epoch 76/111\n",
      "10/10 [==============================] - 0s 996us/step - loss: 96.3462\n",
      "Epoch 77/111\n",
      "10/10 [==============================] - 0s 777us/step - loss: 98.3909\n",
      "Epoch 78/111\n",
      "10/10 [==============================] - 0s 996us/step - loss: 103.6330\n",
      "Epoch 79/111\n",
      "10/10 [==============================] - 0s 971us/step - loss: 94.8742\n",
      "Epoch 80/111\n",
      "10/10 [==============================] - 0s 775us/step - loss: 95.4837\n",
      "Epoch 81/111\n",
      "10/10 [==============================] - 0s 936us/step - loss: 104.0358\n",
      "Epoch 82/111\n",
      "10/10 [==============================] - 0s 1ms/step - loss: 92.3523\n",
      "Epoch 83/111\n",
      "10/10 [==============================] - 0s 1ms/step - loss: 97.1894\n",
      "Epoch 84/111\n",
      "10/10 [==============================] - 0s 932us/step - loss: 96.2563\n",
      "Epoch 85/111\n",
      "10/10 [==============================] - ETA: 0s - loss: 61.22 - 0s 1ms/step - loss: 102.3887\n",
      "Epoch 86/111\n",
      "10/10 [==============================] - 0s 993us/step - loss: 97.5555\n",
      "Epoch 87/111\n",
      "10/10 [==============================] - 0s 775us/step - loss: 92.3126\n",
      "Epoch 88/111\n",
      "10/10 [==============================] - 0s 967us/step - loss: 102.7509\n",
      "Epoch 89/111\n",
      "10/10 [==============================] - 0s 932us/step - loss: 99.2107\n",
      "Epoch 90/111\n",
      "10/10 [==============================] - 0s 998us/step - loss: 97.9494\n",
      "Epoch 91/111\n",
      "10/10 [==============================] - 0s 962us/step - loss: 106.3492\n",
      "Epoch 92/111\n",
      "10/10 [==============================] - 0s 1ms/step - loss: 95.0864\n",
      "Epoch 93/111\n",
      "10/10 [==============================] - 0s 883us/step - loss: 96.2282\n",
      "Epoch 94/111\n",
      "10/10 [==============================] - 0s 774us/step - loss: 97.7009\n",
      "Epoch 95/111\n",
      "10/10 [==============================] - 0s 1ms/step - loss: 108.5546\n",
      "Epoch 96/111\n",
      "10/10 [==============================] - 0s 996us/step - loss: 91.1311\n",
      "Epoch 97/111\n",
      "10/10 [==============================] - 0s 767us/step - loss: 94.2034\n",
      "Epoch 98/111\n"
     ]
    },
    {
     "name": "stdout",
     "output_type": "stream",
     "text": [
      "10/10 [==============================] - 0s 1ms/step - loss: 96.7011\n",
      "Epoch 99/111\n",
      "10/10 [==============================] - 0s 971us/step - loss: 113.6091\n",
      "Epoch 100/111\n",
      "10/10 [==============================] - 0s 1ms/step - loss: 96.2606\n",
      "Epoch 101/111\n",
      "10/10 [==============================] - 0s 775us/step - loss: 105.0563\n",
      "Epoch 102/111\n",
      "10/10 [==============================] - 0s 1ms/step - loss: 98.2578\n",
      "Epoch 103/111\n",
      "10/10 [==============================] - 0s 1ms/step - loss: 103.4015\n",
      "Epoch 104/111\n",
      "10/10 [==============================] - 0s 775us/step - loss: 99.0202\n",
      "Epoch 105/111\n",
      "10/10 [==============================] - 0s 1ms/step - loss: 102.6496\n",
      "Epoch 106/111\n",
      "10/10 [==============================] - 0s 885us/step - loss: 100.6995\n",
      "Epoch 107/111\n",
      "10/10 [==============================] - 0s 777us/step - loss: 93.9076\n",
      "Epoch 108/111\n",
      "10/10 [==============================] - 0s 997us/step - loss: 102.8028\n",
      "Epoch 109/111\n",
      "10/10 [==============================] - 0s 775us/step - loss: 105.8486\n",
      "Epoch 110/111\n",
      "10/10 [==============================] - 0s 776us/step - loss: 95.2447\n",
      "Epoch 111/111\n",
      "10/10 [==============================] - 0s 1ms/step - loss: 103.1028\n"
     ]
    },
    {
     "data": {
      "text/plain": [
       "<tensorflow.python.keras.callbacks.History at 0x23e8be40730>"
      ]
     },
     "execution_count": 128,
     "metadata": {},
     "output_type": "execute_result"
    }
   ],
   "source": [
    "learning_rate =5.0\n",
    "optimizer =RMSprop(learning_rate)\n",
    "epoch=111;\n",
    "verbosee=1\n",
    "model.compile(loss =\"mean_squared_error\",optimizer=optimizer)\n",
    "model.fit(X_train,y_train,epochs =epoch,batch_size =30,verbose =verbosee)"
   ]
  },
  {
   "cell_type": "code",
   "execution_count": 129,
   "metadata": {},
   "outputs": [
    {
     "name": "stdout",
     "output_type": "stream",
     "text": [
      "Epoch 1/10\n",
      "8/8 [==============================] - 1s 2ms/step - loss: 41304.3750\n",
      "Epoch 2/10\n",
      "8/8 [==============================] - 0s 1ms/step - loss: 1490.7942\n",
      "Epoch 3/10\n",
      "8/8 [==============================] - 0s 1ms/step - loss: 511.0619\n",
      "Epoch 4/10\n",
      "8/8 [==============================] - 0s 1ms/step - loss: 129.2097\n",
      "Epoch 5/10\n",
      "8/8 [==============================] - 0s 1ms/step - loss: 109.7583\n",
      "Epoch 6/10\n",
      "8/8 [==============================] - 0s 919us/step - loss: 107.3668\n",
      "Epoch 7/10\n",
      "8/8 [==============================] - 0s 1ms/step - loss: 116.8011\n",
      "Epoch 8/10\n",
      "8/8 [==============================] - 0s 907us/step - loss: 105.1240\n",
      "Epoch 9/10\n",
      "8/8 [==============================] - 0s 1ms/step - loss: 228.1693\n",
      "Epoch 10/10\n",
      "8/8 [==============================] - 0s 1ms/step - loss: 97.8506\n",
      "4/4 [==============================] - 0s 1ms/step - loss: 187.3347\n",
      "The MSE value is:  187.334716796875\n"
     ]
    }
   ],
   "source": [
    "model = Sequential()\n",
    "model.add(Dense(10, activation='relu', input_shape=(n_features,)))\n",
    "model.add(Dense(8, activation='relu'))\n",
    "model.add(Dense(1))\n",
    "\n",
    "optimizer = RMSprop(0.1) # 0.1 is the learning rate\n",
    "model.compile(loss='mean_squared_error',optimizer=optimizer) # compile the model\n",
    "\n",
    "# fit the model\n",
    "model.fit(X_train, y_train, epochs=10, batch_size=40, verbose = 1)\n",
    "\n",
    "# evaluate the model\n",
    "print('The MSE value is: ', model.evaluate(X_test, y_test))"
   ]
  },
  {
   "cell_type": "code",
   "execution_count": 130,
   "metadata": {},
   "outputs": [
    {
     "name": "stdout",
     "output_type": "stream",
     "text": [
      "Epoch 1/10\n",
      "15/15 [==============================] - 1s 2ms/step - loss: 33289.9102\n",
      "Epoch 2/10\n",
      "15/15 [==============================] - 0s 1ms/step - loss: 249.6192\n",
      "Epoch 3/10\n",
      "15/15 [==============================] - 0s 1ms/step - loss: 85.1666\n",
      "Epoch 4/10\n",
      "15/15 [==============================] - 0s 933us/step - loss: 116.5944\n",
      "Epoch 5/10\n",
      "15/15 [==============================] - 0s 897us/step - loss: 147.6005\n",
      "Epoch 6/10\n",
      "15/15 [==============================] - 0s 784us/step - loss: 414.3831\n",
      "Epoch 7/10\n",
      "15/15 [==============================] - 0s 814us/step - loss: 203.2904\n",
      "Epoch 8/10\n",
      "15/15 [==============================] - 0s 783us/step - loss: 154.3219\n",
      "Epoch 9/10\n",
      "15/15 [==============================] - 0s 829us/step - loss: 126.7281\n",
      "Epoch 10/10\n",
      "15/15 [==============================] - 0s 915us/step - loss: 220.8293\n",
      "4/4 [==============================] - 0s 5ms/step - loss: 1241.9556\n",
      "The MSE value is:  1241.95556640625\n"
     ]
    }
   ],
   "source": [
    "model = Sequential()\n",
    "model.add(Dense(10, activation='relu', input_shape=(n_features,)))\n",
    "model.add(Dense(8, activation='relu'))\n",
    "model.add(Dense(1))\n",
    "\n",
    "optimizer = RMSprop(0.1) # 0.1 is the learning rate\n",
    "model.compile(loss='mean_squared_error',optimizer=optimizer) # compile the model\n",
    "\n",
    "# fit the model\n",
    "model.fit(X_train, y_train, epochs=10, batch_size=20, verbose = 1)\n",
    "\n",
    "# evaluate the model\n",
    "print('The MSE value is: ', model.evaluate(X_test, y_test))"
   ]
  },
  {
   "cell_type": "code",
   "execution_count": 131,
   "metadata": {},
   "outputs": [
    {
     "name": "stdout",
     "output_type": "stream",
     "text": [
      "Epoch 1/10\n",
      "19/19 [==============================] - 0s 1ms/step - loss: 54003.8789\n",
      "Epoch 2/10\n",
      "19/19 [==============================] - 0s 976us/step - loss: 1109.3523\n",
      "Epoch 3/10\n",
      "19/19 [==============================] - 0s 959us/step - loss: 549.4327\n",
      "Epoch 4/10\n",
      "19/19 [==============================] - 0s 955us/step - loss: 441.2880\n",
      "Epoch 5/10\n",
      "19/19 [==============================] - 0s 887us/step - loss: 373.1752\n",
      "Epoch 6/10\n",
      "19/19 [==============================] - 0s 889us/step - loss: 298.3076\n",
      "Epoch 7/10\n",
      "19/19 [==============================] - 0s 843us/step - loss: 172.3108\n",
      "Epoch 8/10\n",
      "19/19 [==============================] - 0s 775us/step - loss: 93.5983\n",
      "Epoch 9/10\n",
      "19/19 [==============================] - 0s 794us/step - loss: 91.6103\n",
      "Epoch 10/10\n",
      "19/19 [==============================] - 0s 830us/step - loss: 91.1878\n",
      "4/4 [==============================] - 0s 2ms/step - loss: 79.4919\n",
      "The MSE value is:  79.49186706542969\n"
     ]
    }
   ],
   "source": [
    "model = Sequential()\n",
    "model.add(Dense(10, activation='relu', input_shape=(n_features,)))\n",
    "model.add(Dense(8, activation='relu'))\n",
    "model.add(Dense(1))\n",
    "\n",
    "optimizer = RMSprop(0.1) # 0.1 is the learning rate\n",
    "model.compile(loss='mean_squared_error',optimizer=optimizer) # compile the model\n",
    "\n",
    "# fit the model\n",
    "model.fit(X_train, y_train, epochs=10, batch_size=15, verbose = 1)\n",
    "\n",
    "# evaluate the model\n",
    "print('The MSE value is: ', model.evaluate(X_test, y_test))"
   ]
  },
  {
   "cell_type": "code",
   "execution_count": 132,
   "metadata": {},
   "outputs": [
    {
     "name": "stdout",
     "output_type": "stream",
     "text": [
      "Epoch 1/10\n",
      "57/57 [==============================] - 0s 884us/step - loss: 412.7021\n",
      "Epoch 2/10\n",
      "57/57 [==============================] - 0s 779us/step - loss: 194.7878\n",
      "Epoch 3/10\n",
      "57/57 [==============================] - 0s 732us/step - loss: 162.8362\n",
      "Epoch 4/10\n",
      "57/57 [==============================] - 0s 667us/step - loss: 162.7744\n",
      "Epoch 5/10\n",
      "57/57 [==============================] - 0s 647us/step - loss: 138.7641\n",
      "Epoch 6/10\n",
      "57/57 [==============================] - 0s 658us/step - loss: 131.0418\n",
      "Epoch 7/10\n",
      "57/57 [==============================] - 0s 661us/step - loss: 97.9834\n",
      "Epoch 8/10\n",
      "57/57 [==============================] - 0s 608us/step - loss: 96.0629\n",
      "Epoch 9/10\n",
      "57/57 [==============================] - 0s 663us/step - loss: 90.2313\n",
      "Epoch 10/10\n",
      "57/57 [==============================] - 0s 656us/step - loss: 93.4776\n",
      "4/4 [==============================] - 0s 997us/step - loss: 79.2611\n",
      "The MSE value is:  79.26112365722656\n"
     ]
    }
   ],
   "source": [
    "model = Sequential()\n",
    "model.add(Dense(10, activation='relu', input_shape=(n_features,)))\n",
    "model.add(Dense(8, activation='relu'))\n",
    "model.add(Dense(1))\n",
    "\n",
    "optimizer = RMSprop(0.1) # 0.1 is the learning rate\n",
    "model.compile(loss='mean_squared_error',optimizer=optimizer) # compile the model\n",
    "\n",
    "# fit the model\n",
    "model.fit(X_train, y_train, epochs=10, batch_size=5, verbose = 1)\n",
    "\n",
    "# evaluate the model\n",
    "print('The MSE value is: ', model.evaluate(X_test, y_test))"
   ]
  },
  {
   "cell_type": "code",
   "execution_count": 133,
   "metadata": {},
   "outputs": [
    {
     "name": "stdout",
     "output_type": "stream",
     "text": [
      "Epoch 1/10\n",
      "29/29 [==============================] - 0s 1ms/step - loss: 3113.3433\n",
      "Epoch 2/10\n",
      "29/29 [==============================] - 0s 797us/step - loss: 484.6188\n",
      "Epoch 3/10\n",
      "29/29 [==============================] - 0s 679us/step - loss: 387.8465\n",
      "Epoch 4/10\n",
      "29/29 [==============================] - 0s 768us/step - loss: 303.1146\n",
      "Epoch 5/10\n",
      "29/29 [==============================] - 0s 715us/step - loss: 232.1322\n",
      "Epoch 6/10\n",
      "29/29 [==============================] - 0s 687us/step - loss: 176.3444\n",
      "Epoch 7/10\n",
      "29/29 [==============================] - 0s 801us/step - loss: 137.4416\n",
      "Epoch 8/10\n",
      "29/29 [==============================] - 0s 811us/step - loss: 111.4704\n",
      "Epoch 9/10\n",
      "29/29 [==============================] - 0s 725us/step - loss: 97.0912\n",
      "Epoch 10/10\n",
      "29/29 [==============================] - 0s 668us/step - loss: 92.4708\n",
      "4/4 [==============================] - 0s 3ms/step - loss: 79.0813\n",
      "The MSE value is:  79.08125305175781\n"
     ]
    }
   ],
   "source": [
    "model = Sequential()\n",
    "model.add(Dense(10, activation='relu', input_shape=(n_features,)))\n",
    "model.add(Dense(8, activation='relu'))\n",
    "model.add(Dense(1))\n",
    "\n",
    "optimizer = RMSprop(0.1) # 0.1 is the learning rate\n",
    "model.compile(loss='mean_squared_error',optimizer=optimizer) # compile the model\n",
    "\n",
    "# fit the model\n",
    "model.fit(X_train, y_train, epochs=10, batch_size=10, verbose = 1)\n",
    "\n",
    "# evaluate the model\n",
    "print('The MSE value is: ', model.evaluate(X_test, y_test))"
   ]
  },
  {
   "cell_type": "code",
   "execution_count": 134,
   "metadata": {},
   "outputs": [
    {
     "name": "stdout",
     "output_type": "stream",
     "text": [
      "Epoch 1/10\n",
      "26/26 [==============================] - 0s 1ms/step - loss: 9273.4424\n",
      "Epoch 2/10\n",
      "26/26 [==============================] - 0s 1ms/step - loss: 269.5329\n",
      "Epoch 3/10\n",
      "26/26 [==============================] - 0s 828us/step - loss: 193.2855\n",
      "Epoch 4/10\n",
      "26/26 [==============================] - 0s 846us/step - loss: 181.3482\n",
      "Epoch 5/10\n",
      "26/26 [==============================] - 0s 771us/step - loss: 164.7063\n",
      "Epoch 6/10\n",
      "26/26 [==============================] - 0s 727us/step - loss: 146.8150\n",
      "Epoch 7/10\n",
      "26/26 [==============================] - 0s 723us/step - loss: 94.8408\n",
      "Epoch 8/10\n",
      "26/26 [==============================] - 0s 758us/step - loss: 92.0420\n",
      "Epoch 9/10\n",
      "26/26 [==============================] - 0s 741us/step - loss: 91.1540\n",
      "Epoch 10/10\n",
      "26/26 [==============================] - 0s 799us/step - loss: 92.6890\n",
      "4/4 [==============================] - 0s 5ms/step - loss: 82.2771\n",
      "The MSE value is:  82.27708435058594\n"
     ]
    }
   ],
   "source": [
    "model = Sequential()\n",
    "model.add(Dense(10, activation='relu', input_shape=(n_features,)))\n",
    "model.add(Dense(8, activation='relu'))\n",
    "model.add(Dense(1))\n",
    "\n",
    "optimizer = RMSprop(0.1) # 0.1 is the learning rate\n",
    "model.compile(loss='mean_squared_error',optimizer=optimizer) # compile the model\n",
    "\n",
    "# fit the model\n",
    "model.fit(X_train, y_train, epochs=10, batch_size=11, verbose = 1)\n",
    "\n",
    "# evaluate the model\n",
    "print('The MSE value is: ', model.evaluate(X_test, y_test))"
   ]
  },
  {
   "cell_type": "markdown",
   "metadata": {},
   "source": [
    "implementing the huyperparameters using the GridSearchCV"
   ]
  },
  {
   "cell_type": "code",
   "execution_count": 141,
   "metadata": {},
   "outputs": [
    {
     "ename": "TypeError",
     "evalue": "Cannot clone object '<tensorflow.python.keras.engine.sequential.Sequential object at 0x0000023E902C0820>' (type <class 'tensorflow.python.keras.engine.sequential.Sequential'>): it does not seem to be a scikit-learn estimator as it does not implement a 'get_params' method.",
     "output_type": "error",
     "traceback": [
      "\u001b[1;31m---------------------------------------------------------------------------\u001b[0m",
      "\u001b[1;31mTypeError\u001b[0m                                 Traceback (most recent call last)",
      "\u001b[1;32m<ipython-input-141-2941936c4fd8>\u001b[0m in \u001b[0;36m<module>\u001b[1;34m\u001b[0m\n\u001b[0;32m     12\u001b[0m \u001b[0mparam_grid\u001b[0m \u001b[1;33m=\u001b[0m\u001b[0mdict\u001b[0m\u001b[1;33m(\u001b[0m\u001b[0mbatch_size\u001b[0m \u001b[1;33m=\u001b[0m\u001b[0mbatch_size\u001b[0m\u001b[1;33m,\u001b[0m\u001b[0mepochs\u001b[0m \u001b[1;33m=\u001b[0m\u001b[0mepochs\u001b[0m\u001b[1;33m)\u001b[0m\u001b[1;33m\u001b[0m\u001b[1;33m\u001b[0m\u001b[0m\n\u001b[0;32m     13\u001b[0m \u001b[0mgrid\u001b[0m \u001b[1;33m=\u001b[0m\u001b[0mGridSearchCV\u001b[0m\u001b[1;33m(\u001b[0m\u001b[0mestimator\u001b[0m \u001b[1;33m=\u001b[0m\u001b[0mmodel\u001b[0m\u001b[1;33m,\u001b[0m\u001b[0mparam_grid\u001b[0m \u001b[1;33m=\u001b[0m\u001b[0mparam_grid\u001b[0m\u001b[1;33m,\u001b[0m\u001b[0mscoring\u001b[0m \u001b[1;33m=\u001b[0m\u001b[1;34m'neg_mean_squared_error'\u001b[0m\u001b[1;33m,\u001b[0m\u001b[0mn_jobs\u001b[0m \u001b[1;33m=\u001b[0m\u001b[1;33m-\u001b[0m\u001b[1;36m1\u001b[0m\u001b[1;33m)\u001b[0m\u001b[1;33m\u001b[0m\u001b[1;33m\u001b[0m\u001b[0m\n\u001b[1;32m---> 14\u001b[1;33m \u001b[0mgrid_result\u001b[0m  \u001b[1;33m=\u001b[0m\u001b[0mgrid\u001b[0m\u001b[1;33m.\u001b[0m\u001b[0mfit\u001b[0m\u001b[1;33m(\u001b[0m\u001b[0mX_train\u001b[0m\u001b[1;33m,\u001b[0m\u001b[0my_train\u001b[0m\u001b[1;33m)\u001b[0m\u001b[1;33m\u001b[0m\u001b[1;33m\u001b[0m\u001b[0m\n\u001b[0m\u001b[0;32m     15\u001b[0m \u001b[0mprint\u001b[0m\u001b[1;33m(\u001b[0m\u001b[1;34m\"Best %f using %s\"\u001b[0m \u001b[1;33m%\u001b[0m\u001b[1;33m(\u001b[0m\u001b[0mgrid_result\u001b[0m\u001b[1;33m.\u001b[0m\u001b[0mbest_score_\u001b[0m\u001b[1;33m,\u001b[0m\u001b[0mgrid_result\u001b[0m\u001b[1;33m.\u001b[0m\u001b[0mbest_params_\u001b[0m\u001b[1;33m)\u001b[0m\u001b[1;33m)\u001b[0m\u001b[1;33m\u001b[0m\u001b[1;33m\u001b[0m\u001b[0m\n",
      "\u001b[1;32m~\\anaconda3\\lib\\site-packages\\sklearn\\utils\\validation.py\u001b[0m in \u001b[0;36minner_f\u001b[1;34m(*args, **kwargs)\u001b[0m\n\u001b[0;32m     61\u001b[0m             \u001b[0mextra_args\u001b[0m \u001b[1;33m=\u001b[0m \u001b[0mlen\u001b[0m\u001b[1;33m(\u001b[0m\u001b[0margs\u001b[0m\u001b[1;33m)\u001b[0m \u001b[1;33m-\u001b[0m \u001b[0mlen\u001b[0m\u001b[1;33m(\u001b[0m\u001b[0mall_args\u001b[0m\u001b[1;33m)\u001b[0m\u001b[1;33m\u001b[0m\u001b[1;33m\u001b[0m\u001b[0m\n\u001b[0;32m     62\u001b[0m             \u001b[1;32mif\u001b[0m \u001b[0mextra_args\u001b[0m \u001b[1;33m<=\u001b[0m \u001b[1;36m0\u001b[0m\u001b[1;33m:\u001b[0m\u001b[1;33m\u001b[0m\u001b[1;33m\u001b[0m\u001b[0m\n\u001b[1;32m---> 63\u001b[1;33m                 \u001b[1;32mreturn\u001b[0m \u001b[0mf\u001b[0m\u001b[1;33m(\u001b[0m\u001b[1;33m*\u001b[0m\u001b[0margs\u001b[0m\u001b[1;33m,\u001b[0m \u001b[1;33m**\u001b[0m\u001b[0mkwargs\u001b[0m\u001b[1;33m)\u001b[0m\u001b[1;33m\u001b[0m\u001b[1;33m\u001b[0m\u001b[0m\n\u001b[0m\u001b[0;32m     64\u001b[0m \u001b[1;33m\u001b[0m\u001b[0m\n\u001b[0;32m     65\u001b[0m             \u001b[1;31m# extra_args > 0\u001b[0m\u001b[1;33m\u001b[0m\u001b[1;33m\u001b[0m\u001b[1;33m\u001b[0m\u001b[0m\n",
      "\u001b[1;32m~\\anaconda3\\lib\\site-packages\\sklearn\\model_selection\\_search.py\u001b[0m in \u001b[0;36mfit\u001b[1;34m(self, X, y, groups, **fit_params)\u001b[0m\n\u001b[0;32m    763\u001b[0m         \u001b[0mn_splits\u001b[0m \u001b[1;33m=\u001b[0m \u001b[0mcv_orig\u001b[0m\u001b[1;33m.\u001b[0m\u001b[0mget_n_splits\u001b[0m\u001b[1;33m(\u001b[0m\u001b[0mX\u001b[0m\u001b[1;33m,\u001b[0m \u001b[0my\u001b[0m\u001b[1;33m,\u001b[0m \u001b[0mgroups\u001b[0m\u001b[1;33m)\u001b[0m\u001b[1;33m\u001b[0m\u001b[1;33m\u001b[0m\u001b[0m\n\u001b[0;32m    764\u001b[0m \u001b[1;33m\u001b[0m\u001b[0m\n\u001b[1;32m--> 765\u001b[1;33m         \u001b[0mbase_estimator\u001b[0m \u001b[1;33m=\u001b[0m \u001b[0mclone\u001b[0m\u001b[1;33m(\u001b[0m\u001b[0mself\u001b[0m\u001b[1;33m.\u001b[0m\u001b[0mestimator\u001b[0m\u001b[1;33m)\u001b[0m\u001b[1;33m\u001b[0m\u001b[1;33m\u001b[0m\u001b[0m\n\u001b[0m\u001b[0;32m    766\u001b[0m \u001b[1;33m\u001b[0m\u001b[0m\n\u001b[0;32m    767\u001b[0m         parallel = Parallel(n_jobs=self.n_jobs,\n",
      "\u001b[1;32m~\\anaconda3\\lib\\site-packages\\sklearn\\utils\\validation.py\u001b[0m in \u001b[0;36minner_f\u001b[1;34m(*args, **kwargs)\u001b[0m\n\u001b[0;32m     61\u001b[0m             \u001b[0mextra_args\u001b[0m \u001b[1;33m=\u001b[0m \u001b[0mlen\u001b[0m\u001b[1;33m(\u001b[0m\u001b[0margs\u001b[0m\u001b[1;33m)\u001b[0m \u001b[1;33m-\u001b[0m \u001b[0mlen\u001b[0m\u001b[1;33m(\u001b[0m\u001b[0mall_args\u001b[0m\u001b[1;33m)\u001b[0m\u001b[1;33m\u001b[0m\u001b[1;33m\u001b[0m\u001b[0m\n\u001b[0;32m     62\u001b[0m             \u001b[1;32mif\u001b[0m \u001b[0mextra_args\u001b[0m \u001b[1;33m<=\u001b[0m \u001b[1;36m0\u001b[0m\u001b[1;33m:\u001b[0m\u001b[1;33m\u001b[0m\u001b[1;33m\u001b[0m\u001b[0m\n\u001b[1;32m---> 63\u001b[1;33m                 \u001b[1;32mreturn\u001b[0m \u001b[0mf\u001b[0m\u001b[1;33m(\u001b[0m\u001b[1;33m*\u001b[0m\u001b[0margs\u001b[0m\u001b[1;33m,\u001b[0m \u001b[1;33m**\u001b[0m\u001b[0mkwargs\u001b[0m\u001b[1;33m)\u001b[0m\u001b[1;33m\u001b[0m\u001b[1;33m\u001b[0m\u001b[0m\n\u001b[0m\u001b[0;32m     64\u001b[0m \u001b[1;33m\u001b[0m\u001b[0m\n\u001b[0;32m     65\u001b[0m             \u001b[1;31m# extra_args > 0\u001b[0m\u001b[1;33m\u001b[0m\u001b[1;33m\u001b[0m\u001b[1;33m\u001b[0m\u001b[0m\n",
      "\u001b[1;32m~\\anaconda3\\lib\\site-packages\\sklearn\\base.py\u001b[0m in \u001b[0;36mclone\u001b[1;34m(estimator, safe)\u001b[0m\n\u001b[0;32m     65\u001b[0m                                 \"scikit-learn estimator instead of a class.\")\n\u001b[0;32m     66\u001b[0m             \u001b[1;32melse\u001b[0m\u001b[1;33m:\u001b[0m\u001b[1;33m\u001b[0m\u001b[1;33m\u001b[0m\u001b[0m\n\u001b[1;32m---> 67\u001b[1;33m                 raise TypeError(\"Cannot clone object '%s' (type %s): \"\n\u001b[0m\u001b[0;32m     68\u001b[0m                                 \u001b[1;34m\"it does not seem to be a scikit-learn \"\u001b[0m\u001b[1;33m\u001b[0m\u001b[1;33m\u001b[0m\u001b[0m\n\u001b[0;32m     69\u001b[0m                                 \u001b[1;34m\"estimator as it does not implement a \"\u001b[0m\u001b[1;33m\u001b[0m\u001b[1;33m\u001b[0m\u001b[0m\n",
      "\u001b[1;31mTypeError\u001b[0m: Cannot clone object '<tensorflow.python.keras.engine.sequential.Sequential object at 0x0000023E902C0820>' (type <class 'tensorflow.python.keras.engine.sequential.Sequential'>): it does not seem to be a scikit-learn estimator as it does not implement a 'get_params' method."
     ]
    }
   ],
   "source": [
    "from sklearn.model_selection import GridSearchCV\n",
    "model =Sequential()\n",
    "model.add(Dense(10, activation ='relu',input_shape=(n_features,)))\n",
    "model.add(Dense(8,activation ='relu'))\n",
    "model.add(Dense(1))\n",
    "optimizer =RMSprop(0.1)\n",
    "model.compile(optimizer =optimizer,loss ='mean_squared_error')\n",
    "\n",
    "\n",
    "batch_size =[10,20,30,40,50,60,70,80,90,100]\n",
    "epochs =[10,50,75,100]\n",
    "param_grid =dict(batch_size =batch_size,epochs =epochs)\n",
    "grid =GridSearchCV(estimator =model,param_grid =param_grid,scoring ='neg_mean_squared_error',n_jobs =-1)\n",
    "grid_result  =grid.fit(X_train,y_train)\n",
    "print(\"Best %f using %s\" %(grid_result.best_score_,grid_result.best_params_))\n"
   ]
  },
  {
   "cell_type": "code",
   "execution_count": 144,
   "metadata": {},
   "outputs": [
    {
     "name": "stdout",
     "output_type": "stream",
     "text": [
      "Epoch 1/75\n",
      "15/15 [==============================] - 1s 2ms/step - loss: 702.2307 - mse: 702.2307\n",
      "Epoch 2/75\n",
      "15/15 [==============================] - 0s 2ms/step - loss: 87.7585 - mse: 87.7585\n",
      "Epoch 3/75\n",
      "15/15 [==============================] - 0s 608us/step - loss: 93.4895 - mse: 93.4895\n",
      "Epoch 4/75\n",
      "15/15 [==============================] - 0s 544us/step - loss: 93.1027 - mse: 93.1027\n",
      "Epoch 5/75\n",
      "15/15 [==============================] - 0s 1ms/step - loss: 80.8716 - mse: 80.8716\n",
      "Epoch 6/75\n",
      "15/15 [==============================] - 0s 584us/step - loss: 74.5617 - mse: 74.5617\n",
      "Epoch 7/75\n",
      "15/15 [==============================] - 0s 436us/step - loss: 79.5768 - mse: 79.5768\n",
      "Epoch 8/75\n",
      "15/15 [==============================] - 0s 910us/step - loss: 73.0100 - mse: 73.0100\n",
      "Epoch 9/75\n",
      "15/15 [==============================] - 0s 469us/step - loss: 74.0922 - mse: 74.0922\n",
      "Epoch 10/75\n",
      "15/15 [==============================] - 0s 1ms/step - loss: 68.1529 - mse: 68.1529\n",
      "Epoch 11/75\n",
      "15/15 [==============================] - 0s 477us/step - loss: 65.7015 - mse: 65.7015\n",
      "Epoch 12/75\n",
      "15/15 [==============================] - 0s 1ms/step - loss: 70.7277 - mse: 70.7277\n",
      "Epoch 13/75\n",
      "15/15 [==============================] - 0s 886us/step - loss: 68.2088 - mse: 68.2088\n",
      "Epoch 14/75\n",
      "15/15 [==============================] - 0s 616us/step - loss: 57.8806 - mse: 57.8807\n",
      "Epoch 15/75\n",
      "15/15 [==============================] - 0s 548us/step - loss: 53.7832 - mse: 53.7832\n",
      "Epoch 16/75\n",
      "15/15 [==============================] - 0s 1ms/step - loss: 62.5864 - mse: 62.5864\n",
      "Epoch 17/75\n",
      "15/15 [==============================] - 0s 712us/step - loss: 52.9210 - mse: 52.9210\n",
      "Epoch 18/75\n",
      "15/15 [==============================] - 0s 651us/step - loss: 57.3119 - mse: 57.3119\n",
      "Epoch 19/75\n",
      "15/15 [==============================] - 0s 928us/step - loss: 52.8921 - mse: 52.8921\n",
      "Epoch 20/75\n",
      "15/15 [==============================] - 0s 784us/step - loss: 54.6635 - mse: 54.6635\n",
      "Epoch 21/75\n",
      "15/15 [==============================] - 0s 646us/step - loss: 51.6667 - mse: 51.6667\n",
      "Epoch 22/75\n",
      "15/15 [==============================] - 0s 549us/step - loss: 51.7340 - mse: 51.7340\n",
      "Epoch 23/75\n",
      "15/15 [==============================] - 0s 619us/step - loss: 47.8228 - mse: 47.8228\n",
      "Epoch 24/75\n",
      "15/15 [==============================] - 0s 758us/step - loss: 49.2324 - mse: 49.2324\n",
      "Epoch 25/75\n",
      "15/15 [==============================] - 0s 899us/step - loss: 53.5949 - mse: 53.5949\n",
      "Epoch 26/75\n",
      "15/15 [==============================] - 0s 582us/step - loss: 40.0206 - mse: 40.0206\n",
      "Epoch 27/75\n",
      "15/15 [==============================] - 0s 1000us/step - loss: 52.6433 - mse: 52.6433\n",
      "Epoch 28/75\n",
      "15/15 [==============================] - 0s 583us/step - loss: 43.5430 - mse: 43.5430\n",
      "Epoch 29/75\n",
      "15/15 [==============================] - 0s 567us/step - loss: 42.9740 - mse: 42.9740\n",
      "Epoch 30/75\n",
      "15/15 [==============================] - 0s 761us/step - loss: 49.6900 - mse: 49.6900\n",
      "Epoch 31/75\n",
      "15/15 [==============================] - 0s 579us/step - loss: 43.3625 - mse: 43.3625\n",
      "Epoch 32/75\n",
      "15/15 [==============================] - 0s 1ms/step - loss: 44.2344 - mse: 44.2344\n",
      "Epoch 33/75\n",
      "15/15 [==============================] - 0s 649us/step - loss: 43.6041 - mse: 43.6041\n",
      "Epoch 34/75\n",
      "15/15 [==============================] - 0s 604us/step - loss: 50.3571 - mse: 50.3571\n",
      "Epoch 35/75\n",
      "15/15 [==============================] - 0s 1ms/step - loss: 37.3475 - mse: 37.3475\n",
      "Epoch 36/75\n",
      "15/15 [==============================] - 0s 1ms/step - loss: 46.7217 - mse: 46.7217\n",
      "Epoch 37/75\n",
      "15/15 [==============================] - 0s 887us/step - loss: 35.5022 - mse: 35.5022\n",
      "Epoch 38/75\n",
      "15/15 [==============================] - 0s 1ms/step - loss: 42.0919 - mse: 42.0919\n",
      "Epoch 39/75\n",
      "15/15 [==============================] - 0s 702us/step - loss: 37.3293 - mse: 37.3293\n",
      "Epoch 40/75\n",
      "15/15 [==============================] - 0s 856us/step - loss: 40.9926 - mse: 40.9926\n",
      "Epoch 41/75\n",
      "15/15 [==============================] - 0s 606us/step - loss: 35.5715 - mse: 35.5715\n",
      "Epoch 42/75\n",
      "15/15 [==============================] - 0s 917us/step - loss: 36.0662 - mse: 36.0662\n",
      "Epoch 43/75\n",
      "15/15 [==============================] - 0s 606us/step - loss: 38.7834 - mse: 38.7834\n",
      "Epoch 44/75\n",
      "15/15 [==============================] - 0s 987us/step - loss: 45.8261 - mse: 45.8261\n",
      "Epoch 45/75\n",
      "15/15 [==============================] - 0s 848us/step - loss: 29.4899 - mse: 29.4899\n",
      "Epoch 46/75\n",
      "15/15 [==============================] - 0s 1ms/step - loss: 34.3640 - mse: 34.3640\n",
      "Epoch 47/75\n",
      "15/15 [==============================] - 0s 1ms/step - loss: 37.6717 - mse: 37.6717\n",
      "Epoch 48/75\n",
      "15/15 [==============================] - 0s 1ms/step - loss: 39.3406 - mse: 39.3406\n",
      "Epoch 49/75\n",
      "15/15 [==============================] - 0s 763us/step - loss: 38.1460 - mse: 38.1460\n",
      "Epoch 50/75\n",
      "15/15 [==============================] - 0s 1ms/step - loss: 32.9940 - mse: 32.9940\n",
      "Epoch 51/75\n",
      "15/15 [==============================] - 0s 843us/step - loss: 47.2939 - mse: 47.2939\n",
      "Epoch 52/75\n",
      "15/15 [==============================] - 0s 681us/step - loss: 34.3908 - mse: 34.3908\n",
      "Epoch 53/75\n",
      "15/15 [==============================] - 0s 1ms/step - loss: 33.7847 - mse: 33.7847\n",
      "Epoch 54/75\n",
      "15/15 [==============================] - 0s 622us/step - loss: 36.6618 - mse: 36.6618\n",
      "Epoch 55/75\n",
      "15/15 [==============================] - 0s 351us/step - loss: 33.3778 - mse: 33.3778\n",
      "Epoch 56/75\n",
      "15/15 [==============================] - 0s 679us/step - loss: 32.9158 - mse: 32.9158\n",
      "Epoch 57/75\n",
      "15/15 [==============================] - 0s 1ms/step - loss: 43.5556 - mse: 43.5556\n",
      "Epoch 58/75\n",
      "15/15 [==============================] - 0s 276us/step - loss: 28.0707 - mse: 28.0707\n",
      "Epoch 59/75\n",
      "15/15 [==============================] - 0s 1ms/step - loss: 33.9780 - mse: 33.9780\n",
      "Epoch 60/75\n",
      "15/15 [==============================] - 0s 820us/step - loss: 31.7084 - mse: 31.7084\n",
      "Epoch 61/75\n",
      "15/15 [==============================] - 0s 943us/step - loss: 37.4618 - mse: 37.4618\n",
      "Epoch 62/75\n",
      "15/15 [==============================] - 0s 821us/step - loss: 29.1699 - mse: 29.1699\n",
      "Epoch 63/75\n",
      "15/15 [==============================] - 0s 840us/step - loss: 51.8552 - mse: 51.8552\n",
      "Epoch 64/75\n",
      "15/15 [==============================] - 0s 945us/step - loss: 28.5326 - mse: 28.5326\n",
      "Epoch 65/75\n",
      "15/15 [==============================] - 0s 743us/step - loss: 35.0132 - mse: 35.0132\n",
      "Epoch 66/75\n",
      "15/15 [==============================] - 0s 997us/step - loss: 42.5378 - mse: 42.5378\n",
      "Epoch 67/75\n",
      "15/15 [==============================] - 0s 881us/step - loss: 36.3906 - mse: 36.3906\n",
      "Epoch 68/75\n",
      "15/15 [==============================] - 0s 334us/step - loss: 33.1516 - mse: 33.1516\n",
      "Epoch 69/75\n",
      "15/15 [==============================] - 0s 366us/step - loss: 31.7644 - mse: 31.7644\n",
      "Epoch 70/75\n",
      "15/15 [==============================] - 0s 1ms/step - loss: 37.0229 - mse: 37.0229\n",
      "Epoch 71/75\n",
      "15/15 [==============================] - 0s 2ms/step - loss: 29.7228 - mse: 29.7228\n",
      "Epoch 72/75\n",
      "15/15 [==============================] - 0s 579us/step - loss: 38.3102 - mse: 38.3102\n",
      "Epoch 73/75\n",
      "15/15 [==============================] - 0s 376us/step - loss: 30.0396 - mse: 30.0396\n",
      "Epoch 74/75\n",
      "15/15 [==============================] - 0s 866us/step - loss: 28.2159 - mse: 28.2159\n",
      "Epoch 75/75\n",
      "15/15 [==============================] - 0s 399us/step - loss: 30.9410 - mse: 30.9410\n",
      "Best -37.898496 using {'batch_size': 20, 'epochs': 75}\n"
     ]
    }
   ],
   "source": [
    "from sklearn.model_selection import GridSearchCV\n",
    "from keras.wrappers.scikit_learn import KerasRegressor\n",
    "#defining the model\n",
    "def create_model(optimizer=RMSprop(0.01)):\n",
    "    model =Sequential()\n",
    "    model.add(Dense(10, activation ='relu',input_shape=(n_features,)))\n",
    "    model.add(Dense(8,activation ='relu'))\n",
    "    model.add(Dense(1))\n",
    "    #optimizer =RMSprop(0.1)\n",
    "    model.compile(optimizer =optimizer,loss ='mean_squared_error',metrics =['mse'])\n",
    "    return model\n",
    "model =KerasRegressor(build_fn=create_model, verbose=1)\n",
    "\n",
    "#defining the hyperparameters for grid to be validated\n",
    "batch_size =[10,20,30,40,50,60,70,80,90,100]\n",
    "epochs =[10,50,75,100]\n",
    "param_grid =dict(batch_size =batch_size,epochs =epochs)\n",
    "grid =GridSearchCV(estimator =model,param_grid =param_grid,scoring ='neg_mean_squared_error',n_jobs =-1)\n",
    "# run the GridSearchCV process\n",
    "grid_result  =grid.fit(X_train,y_train)\n",
    "#print the results\n",
    "print(\"Best %f using %s\" %(grid_result.best_score_,grid_result.best_params_))"
   ]
  },
  {
   "cell_type": "code",
   "execution_count": null,
   "metadata": {},
   "outputs": [],
   "source": []
  },
  {
   "cell_type": "code",
   "execution_count": null,
   "metadata": {},
   "outputs": [],
   "source": []
  },
  {
   "cell_type": "code",
   "execution_count": null,
   "metadata": {},
   "outputs": [],
   "source": []
  },
  {
   "cell_type": "code",
   "execution_count": null,
   "metadata": {},
   "outputs": [],
   "source": []
  },
  {
   "cell_type": "code",
   "execution_count": null,
   "metadata": {},
   "outputs": [],
   "source": []
  },
  {
   "cell_type": "code",
   "execution_count": null,
   "metadata": {},
   "outputs": [],
   "source": []
  },
  {
   "cell_type": "code",
   "execution_count": null,
   "metadata": {},
   "outputs": [],
   "source": []
  },
  {
   "cell_type": "code",
   "execution_count": null,
   "metadata": {},
   "outputs": [],
   "source": []
  },
  {
   "cell_type": "code",
   "execution_count": null,
   "metadata": {},
   "outputs": [],
   "source": []
  },
  {
   "cell_type": "code",
   "execution_count": null,
   "metadata": {},
   "outputs": [],
   "source": []
  },
  {
   "cell_type": "code",
   "execution_count": null,
   "metadata": {},
   "outputs": [],
   "source": []
  },
  {
   "cell_type": "code",
   "execution_count": null,
   "metadata": {},
   "outputs": [],
   "source": []
  },
  {
   "cell_type": "code",
   "execution_count": null,
   "metadata": {},
   "outputs": [],
   "source": []
  },
  {
   "cell_type": "code",
   "execution_count": null,
   "metadata": {},
   "outputs": [],
   "source": []
  }
 ],
 "metadata": {
  "kernelspec": {
   "display_name": "Python 3",
   "language": "python",
   "name": "python3"
  },
  "language_info": {
   "codemirror_mode": {
    "name": "ipython",
    "version": 3
   },
   "file_extension": ".py",
   "mimetype": "text/x-python",
   "name": "python",
   "nbconvert_exporter": "python",
   "pygments_lexer": "ipython3",
   "version": "3.8.5"
  }
 },
 "nbformat": 4,
 "nbformat_minor": 4
}
