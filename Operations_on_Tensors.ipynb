{
  "nbformat": 4,
  "nbformat_minor": 0,
  "metadata": {
    "colab": {
      "name": "Operations on Tensors.ipynb",
      "provenance": []
    },
    "kernelspec": {
      "name": "python3",
      "display_name": "Python 3"
    },
    "language_info": {
      "name": "python"
    }
  },
  "cells": [
    {
      "cell_type": "code",
      "metadata": {
        "id": "6eFb33nhX4gl"
      },
      "source": [
        "import tensorflow as tf\n",
        "import numpy as np"
      ],
      "execution_count": 5,
      "outputs": []
    },
    {
      "cell_type": "code",
      "metadata": {
        "colab": {
          "base_uri": "https://localhost:8080/"
        },
        "id": "q3cS9Ze5YC2R",
        "outputId": "1a8db82d-83d3-4f99-e6b8-948747ccebd7"
      },
      "source": [
        "print(tf.__version__)"
      ],
      "execution_count": 3,
      "outputs": [
        {
          "output_type": "stream",
          "text": [
            "2.5.0\n"
          ],
          "name": "stdout"
        }
      ]
    },
    {
      "cell_type": "code",
      "metadata": {
        "id": "YFpY5k-XYEo_"
      },
      "source": [
        "rank3_tensor = tf.constant([[1,2,3,4],\n",
        "                           [5,6,7,8],\n",
        "                           [9,10,11,12],\n",
        "                           [13,14,15,16]\n",
        "                           ],dtype =tf.int32)"
      ],
      "execution_count": 28,
      "outputs": []
    },
    {
      "cell_type": "code",
      "metadata": {
        "colab": {
          "base_uri": "https://localhost:8080/"
        },
        "id": "qDxh4V2YYE7o",
        "outputId": "13d546bd-41aa-4521-f7f6-15279273a6ea"
      },
      "source": [
        "rank3_tensor[1][3] # here we  are refering to the elemet it rank3_tensor == 8"
      ],
      "execution_count": 33,
      "outputs": [
        {
          "output_type": "execute_result",
          "data": {
            "text/plain": [
              "<tf.Tensor: shape=(), dtype=int32, numpy=8>"
            ]
          },
          "metadata": {
            "tags": []
          },
          "execution_count": 33
        }
      ]
    },
    {
      "cell_type": "code",
      "metadata": {
        "id": "ueP0ldLxYE8U"
      },
      "source": [
        "Conversion of Tensor to Numpy\n"
      ],
      "execution_count": null,
      "outputs": []
    },
    {
      "cell_type": "code",
      "metadata": {
        "id": "a791EPrfYE86"
      },
      "source": [
        "a =tf.constant([\n",
        "                [89,56,74],\n",
        "                [1,2,3]\n",
        "])\n",
        "b= tf.constant([\n",
        "                [45,56,12],\n",
        "                [25,36,69]\n",
        "])\n"
      ],
      "execution_count": 35,
      "outputs": []
    },
    {
      "cell_type": "code",
      "metadata": {
        "colab": {
          "base_uri": "https://localhost:8080/"
        },
        "id": "7Ky7uDE7YE9j",
        "outputId": "171d5347-5b3f-46d8-bf3d-29fb9e624eec"
      },
      "source": [
        "np.array(a)\n",
        "b.numpy()\n"
      ],
      "execution_count": 44,
      "outputs": [
        {
          "output_type": "execute_result",
          "data": {
            "text/plain": [
              "array([[45, 56, 12],\n",
              "       [25, 36, 69]], dtype=int32)"
            ]
          },
          "metadata": {
            "tags": []
          },
          "execution_count": 44
        }
      ]
    },
    {
      "cell_type": "code",
      "metadata": {
        "colab": {
          "base_uri": "https://localhost:8080/"
        },
        "id": "QrWe5vW1YE-M",
        "outputId": "bc3f50f5-c850-460e-a525-43a13faedc8b"
      },
      "source": [
        "b"
      ],
      "execution_count": 45,
      "outputs": [
        {
          "output_type": "execute_result",
          "data": {
            "text/plain": [
              "<tf.Tensor: shape=(2, 3), dtype=int32, numpy=\n",
              "array([[45, 56, 12],\n",
              "       [25, 36, 69]], dtype=int32)>"
            ]
          },
          "metadata": {
            "tags": []
          },
          "execution_count": 45
        }
      ]
    },
    {
      "cell_type": "code",
      "metadata": {
        "colab": {
          "base_uri": "https://localhost:8080/"
        },
        "id": "PUtXAZ8TYE-2",
        "outputId": "319d3990-87c4-4c8a-dd30-b126f1b65e11"
      },
      "source": [
        "a"
      ],
      "execution_count": 46,
      "outputs": [
        {
          "output_type": "execute_result",
          "data": {
            "text/plain": [
              "<tf.Tensor: shape=(2, 3), dtype=int32, numpy=\n",
              "array([[89, 56, 74],\n",
              "       [ 1,  2,  3]], dtype=int32)>"
            ]
          },
          "metadata": {
            "tags": []
          },
          "execution_count": 46
        }
      ]
    },
    {
      "cell_type": "code",
      "metadata": {
        "id": "93-VULseYE_g"
      },
      "source": [
        "Mathmatics Operations on Tensors\n"
      ],
      "execution_count": null,
      "outputs": []
    },
    {
      "cell_type": "code",
      "metadata": {
        "id": "BXvfpHoDYFAI"
      },
      "source": [
        "abc =tf.constant([\n",
        "                  [1,2,3],\n",
        "                  [2,2,2],\n",
        "                  [1,1,1]\n",
        "])\n",
        "cde= tf.constant([\n",
        "                  [1,1,1],\n",
        "                  [1,1,1],\n",
        "                  [1,1,1]\n",
        "])"
      ],
      "execution_count": 16,
      "outputs": []
    },
    {
      "cell_type": "code",
      "metadata": {
        "colab": {
          "base_uri": "https://localhost:8080/"
        },
        "id": "HeSQw4RzYFBO",
        "outputId": "2507d39f-931d-4cbe-bada-2ffb7961e916"
      },
      "source": [
        "tf.add(abc ,cde )  ## by using add() we are able to add the two tensors "
      ],
      "execution_count": 8,
      "outputs": [
        {
          "output_type": "execute_result",
          "data": {
            "text/plain": [
              "<tf.Tensor: shape=(2, 4), dtype=int32, numpy=\n",
              "array([[2, 3, 4, 5],\n",
              "       [3, 3, 3, 3]], dtype=int32)>"
            ]
          },
          "metadata": {
            "tags": []
          },
          "execution_count": 8
        }
      ]
    },
    {
      "cell_type": "code",
      "metadata": {
        "colab": {
          "base_uri": "https://localhost:8080/"
        },
        "id": "s-KVb9kCYFEH",
        "outputId": "b6e78441-e562-407c-c159-d717eb640eb9"
      },
      "source": [
        "tf.multiply(abc,cde)# using the multiply ==> we are going to mulitiplicate the two tensors\n"
      ],
      "execution_count": 9,
      "outputs": [
        {
          "output_type": "execute_result",
          "data": {
            "text/plain": [
              "<tf.Tensor: shape=(2, 4), dtype=int32, numpy=\n",
              "array([[1, 2, 3, 4],\n",
              "       [2, 2, 2, 2]], dtype=int32)>"
            ]
          },
          "metadata": {
            "tags": []
          },
          "execution_count": 9
        }
      ]
    },
    {
      "cell_type": "code",
      "metadata": {
        "colab": {
          "base_uri": "https://localhost:8080/"
        },
        "id": "MVczRI-dYFHD",
        "outputId": "29529de3-218b-4fe8-aa45-054b3002af6d"
      },
      "source": [
        "print(tf.matmul(abc,cde)) # using matmul()  ==> we are going to perform matrix multiplication"
      ],
      "execution_count": 17,
      "outputs": [
        {
          "output_type": "stream",
          "text": [
            "tf.Tensor(\n",
            "[[6 6 6]\n",
            " [6 6 6]\n",
            " [3 3 3]], shape=(3, 3), dtype=int32)\n"
          ],
          "name": "stdout"
        }
      ]
    },
    {
      "cell_type": "code",
      "metadata": {
        "colab": {
          "base_uri": "https://localhost:8080/"
        },
        "id": "nH70x_3NYFLn",
        "outputId": "bbd27881-7f92-4269-c8bc-cbd742ba3bf1"
      },
      "source": [
        "print(\"Type of every element:\",abc.dtype)\n",
        "print(\"Number of Dimensions:\",abc.ndim)\n",
        "print(\"Shape of a Tensor\",abc.shape)\n",
        "print(\"Elements along the axis 0 of the Tensor:\",abc.shape[0])\n",
        "print(\"Elements along the last axis  of the Tensor:\",abc[-1])\n",
        "print(\"Total no of elements(3*3):\",tf.size(abc).numpy())"
      ],
      "execution_count": 25,
      "outputs": [
        {
          "output_type": "stream",
          "text": [
            "Type of every element: <dtype: 'int32'>\n",
            "Number of Dimensions: 2\n",
            "Shape of a Tensor (3, 3)\n",
            "Elements along the axis 0 of the Tensor: 3\n",
            "Elements along the last axis  of the Tensor: tf.Tensor([1 1 1], shape=(3,), dtype=int32)\n",
            "Total no of elements(3*3): 9\n"
          ],
          "name": "stdout"
        }
      ]
    },
    {
      "cell_type": "code",
      "metadata": {
        "colab": {
          "base_uri": "https://localhost:8080/"
        },
        "id": "WrnpQiOQYFMa",
        "outputId": "5f350a31-24bd-4413-a303-513cb2b86713"
      },
      "source": [
        "rank_1tensor= tf.constant([0,1,2,3,69,45,5,45,96,78,45,63,12,36,89])\n",
        "print((rank_1tensor).shape)\n",
        "print(rank_1tensor)"
      ],
      "execution_count": 31,
      "outputs": [
        {
          "output_type": "stream",
          "text": [
            "(15,)\n",
            "tf.Tensor([ 0  1  2  3 69 45  5 45 96 78 45 63 12 36 89], shape=(15,), dtype=int32)\n"
          ],
          "name": "stdout"
        }
      ]
    },
    {
      "cell_type": "code",
      "metadata": {
        "colab": {
          "base_uri": "https://localhost:8080/"
        },
        "id": "NdWMTUujYFPS",
        "outputId": "fe70d412-b343-4646-aa11-89aec6bbacc1"
      },
      "source": [
        "print(\"First: \",rank_1tensor[0].numpy())\n",
        "print(\"Second: \",rank_1tensor[1].numpy())\n",
        "print(\"Last: \",rank_1tensor[-1].numpy())"
      ],
      "execution_count": 34,
      "outputs": [
        {
          "output_type": "stream",
          "text": [
            "First:  0\n",
            "Second:  1\n",
            "Last:  89\n"
          ],
          "name": "stdout"
        }
      ]
    },
    {
      "cell_type": "code",
      "metadata": {
        "colab": {
          "base_uri": "https://localhost:8080/"
        },
        "id": "OXlRxJdaYFSS",
        "outputId": "a5fe5d28-3d34-437f-ac5a-474e5016ca67"
      },
      "source": [
        "print(\"Everything: \" ,rank_1tensor[:].numpy())\n",
        "print(\"Before 4 :\", rank_1tensor[0:11].numpy())\n",
        "print(\"From 4 to End:\", rank_1tensor[4:].numpy())\n",
        "print(\"From 2 Before 7: \",rank_1tensor[1:8].numpy())\n",
        "print(\"Reversed: \",rank_1tensor[::-1].numpy())"
      ],
      "execution_count": 44,
      "outputs": [
        {
          "output_type": "stream",
          "text": [
            "Everything:  [ 0  1  2  3 69 45  5 45 96 78 45 63 12 36 89]\n",
            "Before 4 : [ 0  1  2  3 69 45  5 45 96 78 45]\n",
            "From 4 to End: [69 45  5 45 96 78 45 63 12 36 89]\n",
            "From 2 Before 7:  [ 1  2  3 69 45  5 45]\n",
            "Reversed:  [89 36 12 63 45 78 96 45  5 45 69  3  2  1  0]\n"
          ],
          "name": "stdout"
        }
      ]
    },
    {
      "cell_type": "code",
      "metadata": {
        "id": "pRdi527aYFVe"
      },
      "source": [
        "Manipulating Shapes\n"
      ],
      "execution_count": null,
      "outputs": []
    },
    {
      "cell_type": "code",
      "metadata": {
        "colab": {
          "base_uri": "https://localhost:8080/"
        },
        "id": "X7zOQVJrrf2E",
        "outputId": "bae3d58d-5429-4410-c5d1-f1bc6365b765"
      },
      "source": [
        "var_x= tf.Variable(tf.constant([[45],[15],[35],[65],[25]]))\n",
        "var_x.shape"
      ],
      "execution_count": 47,
      "outputs": [
        {
          "output_type": "execute_result",
          "data": {
            "text/plain": [
              "TensorShape([5, 1])"
            ]
          },
          "metadata": {
            "tags": []
          },
          "execution_count": 47
        }
      ]
    },
    {
      "cell_type": "code",
      "metadata": {
        "colab": {
          "base_uri": "https://localhost:8080/"
        },
        "id": "yzczhIIGYFYg",
        "outputId": "24d14f8d-92cd-427e-ab76-004fb01cfaac"
      },
      "source": [
        "print(var_x.shape.as_list())"
      ],
      "execution_count": 50,
      "outputs": [
        {
          "output_type": "stream",
          "text": [
            "[5, 1]\n"
          ],
          "name": "stdout"
        }
      ]
    },
    {
      "cell_type": "code",
      "metadata": {
        "id": "dH5o65QRYFba"
      },
      "source": [
        "#You Can a reshape a tensor into a new shape the tf.reshape operation is fasteset and cheap as the underlying data does not need to be duplicated"
      ],
      "execution_count": null,
      "outputs": []
    },
    {
      "cell_type": "code",
      "metadata": {
        "colab": {
          "base_uri": "https://localhost:8080/"
        },
        "id": "1XZIaxpPYFek",
        "outputId": "153373a3-703f-4614-c2e7-7825ff31f461"
      },
      "source": [
        "#here we can reshape a tensor to a new shape\n",
        "# Note that we are repassing in a list\n",
        "reshaped =tf.reshape(var_x,[1,5])\n",
        "print(reshaped.numpy())"
      ],
      "execution_count": 54,
      "outputs": [
        {
          "output_type": "stream",
          "text": [
            "[[45 15 35 65 25]]\n"
          ],
          "name": "stdout"
        }
      ]
    },
    {
      "cell_type": "code",
      "metadata": {
        "colab": {
          "base_uri": "https://localhost:8080/"
        },
        "id": "8Cx1-xcAYFhS",
        "outputId": "8ca57624-548d-49f8-bf26-95624be9e16c"
      },
      "source": [
        "reshaped1= tf.reshape(var_x,[5,1])\n",
        "print(reshaped1.numpy())"
      ],
      "execution_count": 60,
      "outputs": [
        {
          "output_type": "stream",
          "text": [
            "[[45]\n",
            " [15]\n",
            " [35]\n",
            " [65]\n",
            " [25]]\n"
          ],
          "name": "stdout"
        }
      ]
    },
    {
      "cell_type": "code",
      "metadata": {
        "colab": {
          "base_uri": "https://localhost:8080/"
        },
        "id": "LVFWoOJaYFj_",
        "outputId": "2680363a-128d-446b-b3b8-3012095d1b50"
      },
      "source": [
        "reshaped_neg =tf.reshape(rank_1tensor,[-1]) # the negitve shapes\n",
        "print(reshaped_neg)"
      ],
      "execution_count": 69,
      "outputs": [
        {
          "output_type": "stream",
          "text": [
            "tf.Tensor([ 0  1  2  3 69 45  5 45 96 78 45 63 12 36 89], shape=(15,), dtype=int32)\n"
          ],
          "name": "stdout"
        }
      ]
    },
    {
      "cell_type": "code",
      "metadata": {
        "id": "5aV3q3sWw0hi"
      },
      "source": [
        "tf.reshape uses and exaples"
      ],
      "execution_count": null,
      "outputs": []
    },
    {
      "cell_type": "code",
      "metadata": {
        "id": "FU2UXoO_YFmj"
      },
      "source": [
        "#the  only resonable uses of \"\"tf.reshape()\"\" is to combine or to split the edges of axes or (add\\remove by one),\n",
        "#for this(3*2*5) tensor reshaaping to (3*2)*5) or (3*(2*5)) are both reasonable things to do  as the slics do not mix\n"
      ],
      "execution_count": 72,
      "outputs": []
    },
    {
      "cell_type": "code",
      "metadata": {
        "colab": {
          "base_uri": "https://localhost:8080/"
        },
        "id": "otLlXicluNox",
        "outputId": "5e1686cf-0515-4a5f-a8b8-d29658806536"
      },
      "source": [
        "tensor_reshape =tf.constant([1,2,3,4,5,6,7,8,9,10,11,12,13,14,15,16,17,18,19,20,21,22,23,24,25,26,27,28,29,30])\n",
        "print(tensor_reshape)"
      ],
      "execution_count": 70,
      "outputs": [
        {
          "output_type": "stream",
          "text": [
            "tf.Tensor(\n",
            "[ 1  2  3  4  5  6  7  8  9 10 11 12 13 14 15 16 17 18 19 20 21 22 23 24\n",
            " 25 26 27 28 29 30], shape=(30,), dtype=int32)\n"
          ],
          "name": "stdout"
        }
      ]
    },
    {
      "cell_type": "code",
      "metadata": {
        "colab": {
          "base_uri": "https://localhost:8080/"
        },
        "id": "3h9fgd4DYFpY",
        "outputId": "c98e382c-1aca-424a-c3da-265e8cb3ef75"
      },
      "source": [
        "print(tf.reshape(tensor_reshape,[3,2,5]))"
      ],
      "execution_count": 73,
      "outputs": [
        {
          "output_type": "stream",
          "text": [
            "tf.Tensor(\n",
            "[[[ 1  2  3  4  5]\n",
            "  [ 6  7  8  9 10]]\n",
            "\n",
            " [[11 12 13 14 15]\n",
            "  [16 17 18 19 20]]\n",
            "\n",
            " [[21 22 23 24 25]\n",
            "  [26 27 28 29 30]]], shape=(3, 2, 5), dtype=int32)\n"
          ],
          "name": "stdout"
        }
      ]
    },
    {
      "cell_type": "code",
      "metadata": {
        "colab": {
          "base_uri": "https://localhost:8080/"
        },
        "id": "vnO7I-aZYFsD",
        "outputId": "0e4aa3de-6c5a-4bcd-b50c-84fc379b3624"
      },
      "source": [
        "print(tf.reshape(tensor_reshape,[2,3,5]))"
      ],
      "execution_count": 74,
      "outputs": [
        {
          "output_type": "stream",
          "text": [
            "tf.Tensor(\n",
            "[[[ 1  2  3  4  5]\n",
            "  [ 6  7  8  9 10]\n",
            "  [11 12 13 14 15]]\n",
            "\n",
            " [[16 17 18 19 20]\n",
            "  [21 22 23 24 25]\n",
            "  [26 27 28 29 30]]], shape=(2, 3, 5), dtype=int32)\n"
          ],
          "name": "stdout"
        }
      ]
    },
    {
      "cell_type": "code",
      "metadata": {
        "colab": {
          "base_uri": "https://localhost:8080/"
        },
        "id": "TRctUATbYFum",
        "outputId": "f059baa0-e71b-48a2-a2f8-62097a384007"
      },
      "source": [
        "print(tf.reshape(tensor_reshape,[5,6]))"
      ],
      "execution_count": 76,
      "outputs": [
        {
          "output_type": "stream",
          "text": [
            "tf.Tensor(\n",
            "[[ 1  2  3  4  5  6]\n",
            " [ 7  8  9 10 11 12]\n",
            " [13 14 15 16 17 18]\n",
            " [19 20 21 22 23 24]\n",
            " [25 26 27 28 29 30]], shape=(5, 6), dtype=int32)\n"
          ],
          "name": "stdout"
        }
      ]
    },
    {
      "cell_type": "code",
      "metadata": {
        "colab": {
          "base_uri": "https://localhost:8080/"
        },
        "id": "9XNMfDAwwcFj",
        "outputId": "81cbf96a-9196-4545-858e-3e761192d81c"
      },
      "source": [
        "print(tf.reshape(tensor_reshape,[6,5]))"
      ],
      "execution_count": 77,
      "outputs": [
        {
          "output_type": "stream",
          "text": [
            "tf.Tensor(\n",
            "[[ 1  2  3  4  5]\n",
            " [ 6  7  8  9 10]\n",
            " [11 12 13 14 15]\n",
            " [16 17 18 19 20]\n",
            " [21 22 23 24 25]\n",
            " [26 27 28 29 30]], shape=(6, 5), dtype=int32)\n"
          ],
          "name": "stdout"
        }
      ]
    },
    {
      "cell_type": "code",
      "metadata": {
        "colab": {
          "base_uri": "https://localhost:8080/"
        },
        "id": "-wDIfKKxwi21",
        "outputId": "1d105462-5ede-42ae-f8d1-eb10b3fefbaa"
      },
      "source": [
        "print(tf.reshape(tensor_reshape,[5,1,6]))"
      ],
      "execution_count": 79,
      "outputs": [
        {
          "output_type": "stream",
          "text": [
            "tf.Tensor(\n",
            "[[[ 1  2  3  4  5  6]]\n",
            "\n",
            " [[ 7  8  9 10 11 12]]\n",
            "\n",
            " [[13 14 15 16 17 18]]\n",
            "\n",
            " [[19 20 21 22 23 24]]\n",
            "\n",
            " [[25 26 27 28 29 30]]], shape=(5, 1, 6), dtype=int32)\n"
          ],
          "name": "stdout"
        }
      ]
    },
    {
      "cell_type": "code",
      "metadata": {
        "colab": {
          "base_uri": "https://localhost:8080/"
        },
        "id": "rC5S_2_bwqHb",
        "outputId": "ae25fae3-21d1-4815-f59e-e5b26e01d5be"
      },
      "source": [
        "print(tf.reshape(tensor_reshape,[6,1,5]))"
      ],
      "execution_count": 80,
      "outputs": [
        {
          "output_type": "stream",
          "text": [
            "tf.Tensor(\n",
            "[[[ 1  2  3  4  5]]\n",
            "\n",
            " [[ 6  7  8  9 10]]\n",
            "\n",
            " [[11 12 13 14 15]]\n",
            "\n",
            " [[16 17 18 19 20]]\n",
            "\n",
            " [[21 22 23 24 25]]\n",
            "\n",
            " [[26 27 28 29 30]]], shape=(6, 1, 5), dtype=int32)\n"
          ],
          "name": "stdout"
        }
      ]
    },
    {
      "cell_type": "code",
      "metadata": {
        "colab": {
          "base_uri": "https://localhost:8080/"
        },
        "id": "BtHrZyFNwvNQ",
        "outputId": "901be28e-6554-480f-fdfd-0ad2a882f9a1"
      },
      "source": [
        "# when ever we passe's the [ x,-1] number to shape it fits according to the multilple of previous one\n",
        "print(tf.reshape(tensor_reshape,[3, -1]))\n",
        "print(tf.reshape(tensor_reshape,[6, -1]))"
      ],
      "execution_count": 84,
      "outputs": [
        {
          "output_type": "stream",
          "text": [
            "tf.Tensor(\n",
            "[[ 1  2  3  4  5  6  7  8  9 10]\n",
            " [11 12 13 14 15 16 17 18 19 20]\n",
            " [21 22 23 24 25 26 27 28 29 30]], shape=(3, 10), dtype=int32)\n",
            "tf.Tensor(\n",
            "[[ 1  2  3  4  5]\n",
            " [ 6  7  8  9 10]\n",
            " [11 12 13 14 15]\n",
            " [16 17 18 19 20]\n",
            " [21 22 23 24 25]\n",
            " [26 27 28 29 30]], shape=(6, 5), dtype=int32)\n"
          ],
          "name": "stdout"
        }
      ]
    },
    {
      "cell_type": "code",
      "metadata": {
        "id": "6BUR1cLWxHUe"
      },
      "source": [
        "If you want to Reorder the Axes we need to use the \"\"tf.transpose\"\" not the \"\"tf.reshape()\"\" please do not use to change the axes using the tf.reshape() this was a Bas example"
      ],
      "execution_count": 86,
      "outputs": []
    },
    {
      "cell_type": "code",
      "metadata": {
        "id": "_Z94kUkY1DOh"
      },
      "source": [
        ""
      ],
      "execution_count": null,
      "outputs": []
    },
    {
      "cell_type": "code",
      "metadata": {
        "id": "UBmKhwbI1C6s"
      },
      "source": [
        " "
      ],
      "execution_count": null,
      "outputs": []
    }
  ]
}