{
  "nbformat": 4,
  "nbformat_minor": 0,
  "metadata": {
    "colab": {
      "name": "Basics of Tensors.ipynb",
      "provenance": [],
      "collapsed_sections": []
    },
    "kernelspec": {
      "name": "python3",
      "display_name": "Python 3"
    },
    "language_info": {
      "name": "python"
    }
  },
  "cells": [
    {
      "cell_type": "code",
      "metadata": {
        "id": "wH8mP7cg6unu"
      },
      "source": [
        "import tensorflow as tf"
      ],
      "execution_count": null,
      "outputs": []
    },
    {
      "cell_type": "code",
      "metadata": {
        "colab": {
          "base_uri": "https://localhost:8080/"
        },
        "id": "UmSuclzT67d6",
        "outputId": "5c5279ed-7c26-44ef-b905-b94062094505"
      },
      "source": [
        "print(tf.__version__)"
      ],
      "execution_count": null,
      "outputs": [
        {
          "output_type": "stream",
          "text": [
            "2.5.0\n"
          ],
          "name": "stdout"
        }
      ]
    },
    {
      "cell_type": "code",
      "metadata": {
        "id": "9kmMTcwUCw9J"
      },
      "source": [
        "import numpy as np\n"
      ],
      "execution_count": null,
      "outputs": []
    },
    {
      "cell_type": "code",
      "metadata": {
        "id": "7qbfCa5WFvZ_"
      },
      "source": [
        "Basics of Tensors"
      ],
      "execution_count": null,
      "outputs": []
    },
    {
      "cell_type": "code",
      "metadata": {
        "id": "yV2sY_iRFvck"
      },
      "source": [
        "# indiexes ==> #accessing the  specific element in the data structure's using the index  access element 40\n",
        "a = [10,20,30,40,50]\n"
      ],
      "execution_count": null,
      "outputs": []
    },
    {
      "cell_type": "code",
      "metadata": {
        "colab": {
          "base_uri": "https://localhost:8080/"
        },
        "id": "tWXD2kYiFvfD",
        "outputId": "c3e94c52-009e-43c9-b75f-1e06fcb4191c"
      },
      "source": [
        "a[3]"
      ],
      "execution_count": null,
      "outputs": [
        {
          "output_type": "execute_result",
          "data": {
            "text/plain": [
              "40"
            ]
          },
          "metadata": {
            "tags": []
          },
          "execution_count": 3
        }
      ]
    },
    {
      "cell_type": "code",
      "metadata": {
        "id": "wTO2MsSzFvhj"
      },
      "source": [
        "#tensor \n",
        "dd =[\n",
        "     [1,1,1],\n",
        "     [2,2,2],\n",
        "     [3,3,3],\n",
        "]"
      ],
      "execution_count": null,
      "outputs": []
    },
    {
      "cell_type": "code",
      "metadata": {
        "colab": {
          "base_uri": "https://localhost:8080/"
        },
        "id": "8I5ntjd3Fvjl",
        "outputId": "910cd327-f297-4f24-e0a8-3f4c9640c278"
      },
      "source": [
        "dd[0][2]"
      ],
      "execution_count": null,
      "outputs": [
        {
          "output_type": "execute_result",
          "data": {
            "text/plain": [
              "1"
            ]
          },
          "metadata": {
            "tags": []
          },
          "execution_count": 7
        }
      ]
    },
    {
      "cell_type": "code",
      "metadata": {
        "colab": {
          "base_uri": "https://localhost:8080/"
        },
        "id": "jfX8OxEuFvmW",
        "outputId": "7c30da79-1d80-4d42-d84d-4b5fe31e73a7"
      },
      "source": [
        "print(len(dd))# length oof the list not the dimension or index of the list"
      ],
      "execution_count": null,
      "outputs": [
        {
          "output_type": "stream",
          "text": [
            "3\n"
          ],
          "name": "stdout"
        }
      ]
    },
    {
      "cell_type": "code",
      "metadata": {
        "id": "kBQbrgjpKAda"
      },
      "source": [
        "## Atttributes of Tensors\n",
        "1.shape\n",
        "2.rank \n",
        "3.axes\n"
      ],
      "execution_count": null,
      "outputs": []
    },
    {
      "cell_type": "code",
      "metadata": {
        "id": "dYNWFdyjKAf_"
      },
      "source": [
        "# rank  ==> Rank of a tensor which  tells us the number of  dimensions of the with in the tensor \n",
        "# example here rk is the tensor\n",
        "rk =[\n",
        "     [1,2,3],\n",
        "     [4,5,6],\n",
        "     [7,8,9]\n",
        "]\n"
      ],
      "execution_count": null,
      "outputs": []
    },
    {
      "cell_type": "code",
      "metadata": {
        "colab": {
          "base_uri": "https://localhost:8080/"
        },
        "id": "I5vKwZkcKAiW",
        "outputId": "1936da56-0784-452e-cdae-bd8970cee156"
      },
      "source": [
        "rk[0]# rk[0]==> means rank[0] which means one dimensions"
      ],
      "execution_count": null,
      "outputs": [
        {
          "output_type": "execute_result",
          "data": {
            "text/plain": [
              "[1, 2, 3]"
            ]
          },
          "metadata": {
            "tags": []
          },
          "execution_count": 15
        }
      ]
    },
    {
      "cell_type": "code",
      "metadata": {
        "colab": {
          "base_uri": "https://localhost:8080/"
        },
        "id": "Q9t--97AKAky",
        "outputId": "8e22a55b-a377-4df3-c7ea-092ce68b46c6"
      },
      "source": [
        "rk[1]"
      ],
      "execution_count": null,
      "outputs": [
        {
          "output_type": "execute_result",
          "data": {
            "text/plain": [
              "[4, 5, 6]"
            ]
          },
          "metadata": {
            "tags": []
          },
          "execution_count": 16
        }
      ]
    },
    {
      "cell_type": "code",
      "metadata": {
        "colab": {
          "base_uri": "https://localhost:8080/"
        },
        "id": "sSSUUycDKAnP",
        "outputId": "e1d9db56-3d7a-45fb-cb29-7bb9f5bf434e"
      },
      "source": [
        "rk[2]"
      ],
      "execution_count": null,
      "outputs": [
        {
          "output_type": "execute_result",
          "data": {
            "text/plain": [
              "[7, 8, 9]"
            ]
          },
          "metadata": {
            "tags": []
          },
          "execution_count": 17
        }
      ]
    },
    {
      "cell_type": "code",
      "metadata": {
        "colab": {
          "base_uri": "https://localhost:8080/"
        },
        "id": "0SxetfJfKApu",
        "outputId": "1b7bf8cf-2108-412c-f4c9-0ae7d3d1f54d"
      },
      "source": [
        "rk[0][0]"
      ],
      "execution_count": null,
      "outputs": [
        {
          "output_type": "execute_result",
          "data": {
            "text/plain": [
              "1"
            ]
          },
          "metadata": {
            "tags": []
          },
          "execution_count": 18
        }
      ]
    },
    {
      "cell_type": "code",
      "metadata": {
        "colab": {
          "base_uri": "https://localhost:8080/"
        },
        "id": "K71C73ucKAsY",
        "outputId": "7d58ec78-27e3-4dc2-ff40-9aac96355e2f"
      },
      "source": [
        "print(rk[0][1])\n",
        "print(rk[0][2])\n",
        "print(rk[0][0])"
      ],
      "execution_count": null,
      "outputs": [
        {
          "output_type": "stream",
          "text": [
            "2\n",
            "3\n",
            "1\n"
          ],
          "name": "stdout"
        }
      ]
    },
    {
      "cell_type": "code",
      "metadata": {
        "colab": {
          "base_uri": "https://localhost:8080/"
        },
        "id": "4zeAp75fKAvB",
        "outputId": "0ea4bf4d-0c35-4e4c-b29d-185cf4b51004"
      },
      "source": [
        "#Axes ==>  An axes of tensor is a specific dimension of a tensor\n",
        "#which means \n",
        "rk[0] # ==> this is first axis "
      ],
      "execution_count": null,
      "outputs": [
        {
          "output_type": "execute_result",
          "data": {
            "text/plain": [
              "[1, 2, 3]"
            ]
          },
          "metadata": {
            "tags": []
          },
          "execution_count": 23
        }
      ]
    },
    {
      "cell_type": "code",
      "metadata": {
        "colab": {
          "base_uri": "https://localhost:8080/"
        },
        "id": "OhVXoZg6L8b-",
        "outputId": "f0546548-a7d9-40e5-eebe-d7d6e6bd30f2"
      },
      "source": [
        "print(rk[1])# ==> this is the second axis\n",
        "print(rk[2]) #==> this is the third axis"
      ],
      "execution_count": null,
      "outputs": [
        {
          "output_type": "stream",
          "text": [
            "[4, 5, 6]\n",
            "[7, 8, 9]\n"
          ],
          "name": "stdout"
        }
      ]
    },
    {
      "cell_type": "code",
      "metadata": {
        "colab": {
          "base_uri": "https://localhost:8080/"
        },
        "id": "xfg8ro2mL8eL",
        "outputId": "d2819c0d-5e3a-4719-ea59-be28045d365b"
      },
      "source": [
        "rk[0][2]# rk has a rank of 2\n",
        "# rk has 0==> axis\n",
        "# rk has 1==> index or  number"
      ],
      "execution_count": null,
      "outputs": [
        {
          "output_type": "execute_result",
          "data": {
            "text/plain": [
              "3"
            ]
          },
          "metadata": {
            "tags": []
          },
          "execution_count": 26
        }
      ]
    },
    {
      "cell_type": "code",
      "metadata": {
        "id": "zdYSzr2jL8gl"
      },
      "source": [
        "#Rank of tensors tells us the how many axes that  tensors has  and the length of the axes will lead us to very umprortant concept as Shape"
      ],
      "execution_count": null,
      "outputs": []
    },
    {
      "cell_type": "code",
      "metadata": {
        "id": "vxhuDSb8L8i-"
      },
      "source": [
        "#  Shape =>>\n",
        "#Shape is determined by the length of the axis so if we know the shape of the given tensor then we know the length of the axes\n",
        "#shape and size perform same functionalites but the names are diffrent\n"
      ],
      "execution_count": null,
      "outputs": []
    },
    {
      "cell_type": "code",
      "metadata": {
        "id": "VK-LdzYYL8lL"
      },
      "source": [
        "# lets create a 2d array\n",
        "rk =[\n",
        "     [33,22,11],\n",
        "     [66,55,44],\n",
        "     [99,88,77]\n",
        "]"
      ],
      "execution_count": null,
      "outputs": []
    },
    {
      "cell_type": "code",
      "metadata": {
        "colab": {
          "base_uri": "https://localhost:8080/"
        },
        "id": "GSafpo0xL8nb",
        "outputId": "ba09e882-9d90-435c-c267-f5becb89deac"
      },
      "source": [
        "t = tf.constant(rk) # constant() ==> constant function that helps us to create the constant tensor\n",
        "t.shape\n"
      ],
      "execution_count": null,
      "outputs": [
        {
          "output_type": "execute_result",
          "data": {
            "text/plain": [
              "TensorShape([3, 3])"
            ]
          },
          "metadata": {
            "tags": []
          },
          "execution_count": 35
        }
      ]
    },
    {
      "cell_type": "code",
      "metadata": {
        "colab": {
          "base_uri": "https://localhost:8080/"
        },
        "id": "tQ2763lYL8pt",
        "outputId": "855750fd-f37b-4272-f0be-e1b139939b3f"
      },
      "source": [
        "print(type(t))# tensor type"
      ],
      "execution_count": null,
      "outputs": [
        {
          "output_type": "stream",
          "text": [
            "<class 'tensorflow.python.framework.ops.EagerTensor'>\n"
          ],
          "name": "stdout"
        }
      ]
    },
    {
      "cell_type": "code",
      "metadata": {
        "colab": {
          "base_uri": "https://localhost:8080/"
        },
        "id": "lvvECow-L8sq",
        "outputId": "d17aa6b2-0261-4d56-9b09-81ce00359c92"
      },
      "source": [
        "t"
      ],
      "execution_count": null,
      "outputs": [
        {
          "output_type": "execute_result",
          "data": {
            "text/plain": [
              "<tf.Tensor: shape=(3, 3), dtype=int32, numpy=\n",
              "array([[33, 22, 11],\n",
              "       [66, 55, 44],\n",
              "       [99, 88, 77]], dtype=int32)>"
            ]
          },
          "metadata": {
            "tags": []
          },
          "execution_count": 42
        }
      ]
    },
    {
      "cell_type": "code",
      "metadata": {
        "id": "1CPNui8lL8uz"
      },
      "source": [
        ""
      ],
      "execution_count": null,
      "outputs": []
    },
    {
      "cell_type": "code",
      "metadata": {
        "id": "HX6UHczIL8xL"
      },
      "source": [
        "Operations of Tensor\n",
        "1.Reshaping Operations\n",
        "2.Element wise Operations\n",
        "3.Reduction Operations\n",
        "4.Axes Operations"
      ],
      "execution_count": null,
      "outputs": []
    },
    {
      "cell_type": "code",
      "metadata": {
        "id": "C7E_8ATjL8z0"
      },
      "source": [
        "# Reshpaping  Operaions of a  Tensor in Tensorflow\n",
        "==> Shape\n",
        "==> flaten\n",
        "==> concat"
      ],
      "execution_count": null,
      "outputs": []
    },
    {
      "cell_type": "code",
      "metadata": {
        "id": "YskxH6dDL82D"
      },
      "source": [
        "S = tf.constant([\n",
        "                 [45,12,78],\n",
        "                 [89,56,23],\n",
        "                 [79,46,13],\n",
        "                 [75,53,94]\n",
        "],dtype =tf.int32)"
      ],
      "execution_count": null,
      "outputs": []
    },
    {
      "cell_type": "code",
      "metadata": {
        "colab": {
          "base_uri": "https://localhost:8080/"
        },
        "id": "fU0ol4NHL86z",
        "outputId": "85ad355d-6d24-46bc-a06d-7933889d6f02"
      },
      "source": [
        "S.shape"
      ],
      "execution_count": null,
      "outputs": [
        {
          "output_type": "execute_result",
          "data": {
            "text/plain": [
              "TensorShape([4, 3])"
            ]
          },
          "metadata": {
            "tags": []
          },
          "execution_count": 53
        }
      ]
    },
    {
      "cell_type": "code",
      "metadata": {
        "colab": {
          "base_uri": "https://localhost:8080/"
        },
        "id": "xSoVC0KrL898",
        "outputId": "a1bf9e3d-fb4b-4030-bb4f-1eba3c1742d8"
      },
      "source": [
        "reshaped_tensor =tf.reshape(S, [2,6])\n",
        "print(reshaped_tensor)"
      ],
      "execution_count": null,
      "outputs": [
        {
          "output_type": "stream",
          "text": [
            "tf.Tensor(\n",
            "[[45 12 78 89 56 23]\n",
            " [79 46 13 75 53 94]], shape=(2, 6), dtype=int32)\n"
          ],
          "name": "stdout"
        }
      ]
    },
    {
      "cell_type": "code",
      "metadata": {
        "colab": {
          "base_uri": "https://localhost:8080/"
        },
        "id": "L2mOpUSAL8_r",
        "outputId": "3a280da2-ac21-477f-94f4-22ef1faef37a"
      },
      "source": [
        "reshaped_tensor =tf.reshape(S,[1,12])\n",
        "print(reshaped_tensor)"
      ],
      "execution_count": null,
      "outputs": [
        {
          "output_type": "stream",
          "text": [
            "tf.Tensor([[45 12 78 89 56 23 79 46 13 75 53 94]], shape=(1, 12), dtype=int32)\n"
          ],
          "name": "stdout"
        }
      ]
    },
    {
      "cell_type": "code",
      "metadata": {
        "colab": {
          "base_uri": "https://localhost:8080/"
        },
        "id": "FD0PrUbpL9Bz",
        "outputId": "bdba2092-82aa-4bea-e752-3b55dd62af68"
      },
      "source": [
        "reshaped_tensor=tf.reshape(S,[4,3])\n",
        "reshaped_tensor"
      ],
      "execution_count": null,
      "outputs": [
        {
          "output_type": "execute_result",
          "data": {
            "text/plain": [
              "<tf.Tensor: shape=(4, 3), dtype=int32, numpy=\n",
              "array([[45, 12, 78],\n",
              "       [89, 56, 23],\n",
              "       [79, 46, 13],\n",
              "       [75, 53, 94]], dtype=int32)>"
            ]
          },
          "metadata": {
            "tags": []
          },
          "execution_count": 67
        }
      ]
    },
    {
      "cell_type": "code",
      "metadata": {
        "colab": {
          "base_uri": "https://localhost:8080/"
        },
        "id": "A8jTNMgTFvo9",
        "outputId": "e35dc6a4-5603-4dde-9d31-5b332eb1a721"
      },
      "source": [
        "reshaped_tensor=tf.reshape(S,[3,4])\n",
        "reshaped_tensor"
      ],
      "execution_count": null,
      "outputs": [
        {
          "output_type": "execute_result",
          "data": {
            "text/plain": [
              "<tf.Tensor: shape=(3, 4), dtype=int32, numpy=\n",
              "array([[45, 12, 78, 89],\n",
              "       [56, 23, 79, 46],\n",
              "       [13, 75, 53, 94]], dtype=int32)>"
            ]
          },
          "metadata": {
            "tags": []
          },
          "execution_count": 68
        }
      ]
    },
    {
      "cell_type": "code",
      "metadata": {
        "colab": {
          "base_uri": "https://localhost:8080/"
        },
        "id": "U2t8zax1FvrZ",
        "outputId": "4ebee9fb-fae1-4719-a9e3-3b551f2ef314"
      },
      "source": [
        "reshaped_tensor=tf.reshape(S,[6,2])\n",
        "reshaped_tensor"
      ],
      "execution_count": null,
      "outputs": [
        {
          "output_type": "execute_result",
          "data": {
            "text/plain": [
              "<tf.Tensor: shape=(6, 2), dtype=int32, numpy=\n",
              "array([[45, 12],\n",
              "       [78, 89],\n",
              "       [56, 23],\n",
              "       [79, 46],\n",
              "       [13, 75],\n",
              "       [53, 94]], dtype=int32)>"
            ]
          },
          "metadata": {
            "tags": []
          },
          "execution_count": 69
        }
      ]
    },
    {
      "cell_type": "code",
      "metadata": {
        "colab": {
          "base_uri": "https://localhost:8080/"
        },
        "id": "FelTmw8WFvuB",
        "outputId": "16cba7e8-c02e-45a6-dd6e-0766d39bf4c6"
      },
      "source": [
        "reshaped_tensor=tf.reshape(S,[12,1])\n",
        "reshaped_tensor"
      ],
      "execution_count": null,
      "outputs": [
        {
          "output_type": "execute_result",
          "data": {
            "text/plain": [
              "<tf.Tensor: shape=(12, 1), dtype=int32, numpy=\n",
              "array([[45],\n",
              "       [12],\n",
              "       [78],\n",
              "       [89],\n",
              "       [56],\n",
              "       [23],\n",
              "       [79],\n",
              "       [46],\n",
              "       [13],\n",
              "       [75],\n",
              "       [53],\n",
              "       [94]], dtype=int32)>"
            ]
          },
          "metadata": {
            "tags": []
          },
          "execution_count": 70
        }
      ]
    },
    {
      "cell_type": "code",
      "metadata": {
        "colab": {
          "base_uri": "https://localhost:8080/"
        },
        "id": "f_ntsYSmVc94",
        "outputId": "1e464234-719d-480a-a49c-32f6139524ca"
      },
      "source": [
        "reshaped_tensor=tf.reshape(S,[2,2,3])\n",
        "reshaped_tensor"
      ],
      "execution_count": null,
      "outputs": [
        {
          "output_type": "execute_result",
          "data": {
            "text/plain": [
              "<tf.Tensor: shape=(2, 2, 3), dtype=int32, numpy=\n",
              "array([[[45, 12, 78],\n",
              "        [89, 56, 23]],\n",
              "\n",
              "       [[79, 46, 13],\n",
              "        [75, 53, 94]]], dtype=int32)>"
            ]
          },
          "metadata": {
            "tags": []
          },
          "execution_count": 77
        }
      ]
    },
    {
      "cell_type": "code",
      "metadata": {
        "id": "-wLSRDofUxVd"
      },
      "source": [
        "## By  using the reshape() ==> which can specify the rows * cols shape that we are seeking.\n",
        "# Notice how all of the shapes have to account for the number of elements in the tensor. "
      ],
      "execution_count": null,
      "outputs": []
    },
    {
      "cell_type": "code",
      "metadata": {
        "id": "b8EtWXolVPhZ"
      },
      "source": [
        "## Chane the shape by using the \n",
        "# Squeezing ==> A tensor removes the dimensions of the axes that have a length of one\n",
        "# UnSqueezing ==> A tensor adds the dimensions of the axes that have a lenght of one\n"
      ],
      "execution_count": null,
      "outputs": []
    },
    {
      "cell_type": "code",
      "metadata": {
        "colab": {
          "base_uri": "https://localhost:8080/"
        },
        "id": "J7MmzBQtVPj2",
        "outputId": "6c3e017e-ef11-4d58-8847-57e48064de79"
      },
      "source": [
        "print(tf.reshape(S,[1,12])),"
      ],
      "execution_count": null,
      "outputs": [
        {
          "output_type": "stream",
          "text": [
            "tf.Tensor([[45 12 78 89 56 23 79 46 13 75 53 94]], shape=(1, 12), dtype=int32)\n"
          ],
          "name": "stdout"
        },
        {
          "output_type": "execute_result",
          "data": {
            "text/plain": [
              "(None,)"
            ]
          },
          "metadata": {
            "tags": []
          },
          "execution_count": 78
        }
      ]
    },
    {
      "cell_type": "code",
      "metadata": {
        "colab": {
          "base_uri": "https://localhost:8080/"
        },
        "id": "Y0wN7a1AVPm0",
        "outputId": "bd8c093d-2ed7-41a8-99ea-b2227f4f7e47"
      },
      "source": [
        "print(tf.reshape(S,[1,12]).shape)"
      ],
      "execution_count": null,
      "outputs": [
        {
          "output_type": "stream",
          "text": [
            "(1, 12)\n"
          ],
          "name": "stdout"
        }
      ]
    },
    {
      "cell_type": "code",
      "metadata": {
        "colab": {
          "base_uri": "https://localhost:8080/"
        },
        "id": "mMEQWzH_VPpZ",
        "outputId": "f1525bcc-5de6-4d18-9f15-719ba82a313a"
      },
      "source": [
        "print(tf.squeeze(tf.reshape(S,[1,12])))"
      ],
      "execution_count": null,
      "outputs": [
        {
          "output_type": "stream",
          "text": [
            "tf.Tensor([45 12 78 89 56 23 79 46 13 75 53 94], shape=(12,), dtype=int32)\n"
          ],
          "name": "stdout"
        }
      ]
    },
    {
      "cell_type": "code",
      "metadata": {
        "colab": {
          "base_uri": "https://localhost:8080/"
        },
        "id": "nIbLTTs_VPsT",
        "outputId": "5da289fc-6f49-4d26-e3fa-6f0a7b2d7734"
      },
      "source": [
        "print(tf.squeeze(tf.reshape(S,[1,12])).shape)"
      ],
      "execution_count": null,
      "outputs": [
        {
          "output_type": "stream",
          "text": [
            "(12,)\n"
          ],
          "name": "stdout"
        }
      ]
    },
    {
      "cell_type": "code",
      "metadata": {
        "id": "pD_PvB06VPvH"
      },
      "source": [
        ""
      ],
      "execution_count": null,
      "outputs": []
    },
    {
      "cell_type": "code",
      "metadata": {
        "id": "VsQJ4FlGVPx9"
      },
      "source": [
        "#Flatten a Tensor ==> A flatten a tensor means reshapes the tensor to have a shape that is equal to the number of elements contained in the tensor\n",
        "#which means reshapeing the tensor with 1-d array \n"
      ],
      "execution_count": null,
      "outputs": []
    },
    {
      "cell_type": "code",
      "metadata": {
        "colab": {
          "base_uri": "https://localhost:8080/"
        },
        "id": "Bf2qIPE8VP02",
        "outputId": "8ed59193-6960-4817-cef1-e39bccebf04d"
      },
      "source": [
        "def flatten(S):\n",
        "  S= tf.reshape(S,[1,-1])\n",
        "  S= tf.squeeze(S)\n",
        "  return S\n",
        "flatten(S)"
      ],
      "execution_count": null,
      "outputs": [
        {
          "output_type": "execute_result",
          "data": {
            "text/plain": [
              "<tf.Tensor: shape=(12,), dtype=int32, numpy=array([45, 12, 78, 89, 56, 23, 79, 46, 13, 75, 53, 94], dtype=int32)>"
            ]
          },
          "metadata": {
            "tags": []
          },
          "execution_count": 104
        }
      ]
    },
    {
      "cell_type": "markdown",
      "metadata": {
        "id": "SHpAxZDHcrCU"
      },
      "source": [
        ""
      ]
    },
    {
      "cell_type": "code",
      "metadata": {
        "id": "UmzQGmlYcVaQ",
        "colab": {
          "base_uri": "https://localhost:8080/"
        },
        "outputId": "5c9647dd-8bf9-4ad2-f37d-cbb941645bd4"
      },
      "source": [
        "T=tf.ones([4,3])\n",
        "T"
      ],
      "execution_count": null,
      "outputs": [
        {
          "output_type": "execute_result",
          "data": {
            "text/plain": [
              "<tf.Tensor: shape=(4, 3), dtype=float32, numpy=\n",
              "array([[1., 1., 1.],\n",
              "       [1., 1., 1.],\n",
              "       [1., 1., 1.],\n",
              "       [1., 1., 1.]], dtype=float32)>"
            ]
          },
          "metadata": {
            "tags": []
          },
          "execution_count": 106
        }
      ]
    },
    {
      "cell_type": "code",
      "metadata": {
        "colab": {
          "base_uri": "https://localhost:8080/"
        },
        "id": "3g7Yo66pVP30",
        "outputId": "a8045d16-b558-45f1-c657-ac929f53d3a2"
      },
      "source": [
        "flatten(T)"
      ],
      "execution_count": null,
      "outputs": [
        {
          "output_type": "execute_result",
          "data": {
            "text/plain": [
              "<tf.Tensor: shape=(12,), dtype=float32, numpy=array([1., 1., 1., 1., 1., 1., 1., 1., 1., 1., 1., 1.], dtype=float32)>"
            ]
          },
          "metadata": {
            "tags": []
          },
          "execution_count": 107
        }
      ]
    },
    {
      "cell_type": "code",
      "metadata": {
        "id": "-8NC6zITVP9e"
      },
      "source": [
        "Concatenating Tensors\n",
        "# here we combine  two tensors by using the concat() function and the resulting fucntion will have a shape that depends on the  shape of the two input tensors\n"
      ],
      "execution_count": null,
      "outputs": []
    },
    {
      "cell_type": "code",
      "metadata": {
        "id": "-4Dub2dNVQAU"
      },
      "source": [
        "tf1 =tf.constant([\n",
        "                  [545,7890],\n",
        "                  [852,369]])\n",
        "tf2 =tf.constant([\n",
        "                  [45,60],[23,56]\n",
        "])\n",
        "tf3 = tf.concat((tf1, tf2),axis=0)"
      ],
      "execution_count": null,
      "outputs": []
    },
    {
      "cell_type": "code",
      "metadata": {
        "id": "wrX3q5e1VQDM",
        "colab": {
          "base_uri": "https://localhost:8080/"
        },
        "outputId": "8fb1c44e-b0c9-4f64-ee5d-68a0a5430526"
      },
      "source": [
        "tf3.shape"
      ],
      "execution_count": null,
      "outputs": [
        {
          "output_type": "execute_result",
          "data": {
            "text/plain": [
              "TensorShape([4, 2])"
            ]
          },
          "metadata": {
            "tags": []
          },
          "execution_count": 112
        }
      ]
    },
    {
      "cell_type": "code",
      "metadata": {
        "id": "MRVGNU18VQGE",
        "colab": {
          "base_uri": "https://localhost:8080/"
        },
        "outputId": "f22124fc-b8c8-44f0-e6c0-942108079851"
      },
      "source": [
        "tf1.shape,tf2.shape"
      ],
      "execution_count": null,
      "outputs": [
        {
          "output_type": "execute_result",
          "data": {
            "text/plain": [
              "(TensorShape([2, 2]), TensorShape([2, 2]))"
            ]
          },
          "metadata": {
            "tags": []
          },
          "execution_count": 114
        }
      ]
    },
    {
      "cell_type": "code",
      "metadata": {
        "id": "GPVvvmZSVQJJ"
      },
      "source": [
        ""
      ],
      "execution_count": null,
      "outputs": []
    },
    {
      "cell_type": "code",
      "metadata": {
        "id": "JWp3TLxCVQMU"
      },
      "source": [
        ""
      ],
      "execution_count": null,
      "outputs": []
    },
    {
      "cell_type": "code",
      "metadata": {
        "id": "zG8KEUb-VQPZ"
      },
      "source": [
        ""
      ],
      "execution_count": null,
      "outputs": []
    },
    {
      "cell_type": "code",
      "metadata": {
        "id": "U5-JRcYxVQSR"
      },
      "source": [
        ""
      ],
      "execution_count": null,
      "outputs": []
    },
    {
      "cell_type": "code",
      "metadata": {
        "id": "kvfsPhJlVQVI"
      },
      "source": [
        ""
      ],
      "execution_count": null,
      "outputs": []
    },
    {
      "cell_type": "code",
      "metadata": {
        "id": "Fn1iB1hPVQX0"
      },
      "source": [
        ""
      ],
      "execution_count": null,
      "outputs": []
    },
    {
      "cell_type": "code",
      "metadata": {
        "id": "d8bx9Ky5VQa4"
      },
      "source": [
        ""
      ],
      "execution_count": null,
      "outputs": []
    },
    {
      "cell_type": "code",
      "metadata": {
        "id": "AOHFWOWyVQdu"
      },
      "source": [
        ""
      ],
      "execution_count": null,
      "outputs": []
    },
    {
      "cell_type": "code",
      "metadata": {
        "id": "MLLsCngAVQgl"
      },
      "source": [
        ""
      ],
      "execution_count": null,
      "outputs": []
    },
    {
      "cell_type": "code",
      "metadata": {
        "id": "p58tmE1sVQje"
      },
      "source": [
        ""
      ],
      "execution_count": null,
      "outputs": []
    },
    {
      "cell_type": "code",
      "metadata": {
        "id": "JN76yFz9VQme"
      },
      "source": [
        ""
      ],
      "execution_count": null,
      "outputs": []
    },
    {
      "cell_type": "code",
      "metadata": {
        "id": "9nwxW76OVQpN"
      },
      "source": [
        ""
      ],
      "execution_count": null,
      "outputs": []
    },
    {
      "cell_type": "code",
      "metadata": {
        "id": "OP-9h2chVQsG"
      },
      "source": [
        ""
      ],
      "execution_count": null,
      "outputs": []
    },
    {
      "cell_type": "code",
      "metadata": {
        "id": "-QFRpLAXVQvX"
      },
      "source": [
        ""
      ],
      "execution_count": null,
      "outputs": []
    },
    {
      "cell_type": "code",
      "metadata": {
        "id": "3y5NTO-JVQyW"
      },
      "source": [
        ""
      ],
      "execution_count": null,
      "outputs": []
    },
    {
      "cell_type": "code",
      "metadata": {
        "id": "3BGqbff3VQ1N"
      },
      "source": [
        ""
      ],
      "execution_count": null,
      "outputs": []
    },
    {
      "cell_type": "code",
      "metadata": {
        "id": "6Q26c9LbVQ6n"
      },
      "source": [
        ""
      ],
      "execution_count": null,
      "outputs": []
    },
    {
      "cell_type": "code",
      "metadata": {
        "id": "MIn8jAwTVQ9g"
      },
      "source": [
        ""
      ],
      "execution_count": null,
      "outputs": []
    },
    {
      "cell_type": "code",
      "metadata": {
        "id": "8Xh3m6eZVUHO"
      },
      "source": [
        "from google.colab import drive\n",
        "drive.mount('/content/drive')"
      ],
      "execution_count": null,
      "outputs": []
    }
  ]
}